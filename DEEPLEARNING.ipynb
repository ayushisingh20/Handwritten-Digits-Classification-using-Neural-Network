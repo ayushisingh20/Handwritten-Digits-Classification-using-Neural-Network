{
  "nbformat": 4,
  "nbformat_minor": 0,
  "metadata": {
    "colab": {
      "provenance": []
    },
    "kernelspec": {
      "name": "python3",
      "display_name": "Python 3"
    },
    "language_info": {
      "name": "python"
    }
  },
  "cells": [
    {
      "cell_type": "markdown",
      "source": [
        "#**Handwritten digits classification using neural network**\n",
        "\n",
        "\n"
      ],
      "metadata": {
        "id": "tjdOjk8B07aY"
      }
    },
    {
      "cell_type": "code",
      "execution_count": null,
      "metadata": {
        "id": "vB_4m70Iy-S9"
      },
      "outputs": [],
      "source": [
        "import tensorflow as tf\n",
        "#TensorFlow is an end-to-end open source platform for machine learning. TensorFlow is a rich system for managing all aspects of a machine learning system;\n",
        "#however, this class focuses on using a particular TensorFlow API to develop and train machine learning models.\n",
        "from tensorflow import keras\n",
        "import matplotlib.pyplot as plt  #WE USED TO SEE HOW OUR IMAGE OF NUMBER LOOKS\n",
        "#matplotlib.pyplot is a collection of functions that make matplotlib work like MATLAB\n",
        "%matplotlib inline\n",
        " #tells the environment to draw the plots immediately after the current cell\n",
        "import numpy as np"
      ]
    },
    {
      "cell_type": "code",
      "source": [
        "(x_train,y_train),(x_test,y_test)= keras.datasets.mnist.load_data()\n",
        "#The easiest way to load the data is through Keras. MNIST dataset consists of training data and testing data. Each image is stored in 28X28 and the corresponding output is the digit in the image.\n",
        "#The MNIST database is a large database of handwritten digits that is commonly used for training various image processing systems."
      ],
      "metadata": {
        "id": "et62BfC3z1YF"
      },
      "execution_count": null,
      "outputs": []
    },
    {
      "cell_type": "code",
      "source": [
        "len(x_train)"
      ],
      "metadata": {
        "colab": {
          "base_uri": "https://localhost:8080/"
        },
        "id": "9-ZNKkwU1o6L",
        "outputId": "410d38af-8781-44fb-e688-e05991b06aea"
      },
      "execution_count": null,
      "outputs": [
        {
          "output_type": "execute_result",
          "data": {
            "text/plain": [
              "60000"
            ]
          },
          "metadata": {},
          "execution_count": 17
        }
      ]
    },
    {
      "cell_type": "code",
      "source": [
        "len(x_test)"
      ],
      "metadata": {
        "colab": {
          "base_uri": "https://localhost:8080/"
        },
        "id": "Vd09qKzk2aCU",
        "outputId": "3c761f11-79be-4d8d-d255-9c803886bd79"
      },
      "execution_count": null,
      "outputs": [
        {
          "output_type": "execute_result",
          "data": {
            "text/plain": [
              "10000"
            ]
          },
          "metadata": {},
          "execution_count": 18
        }
      ]
    },
    {
      "cell_type": "code",
      "source": [
        "len(y_train)"
      ],
      "metadata": {
        "colab": {
          "base_uri": "https://localhost:8080/"
        },
        "id": "eOaWxxp62cjP",
        "outputId": "9b7dac0b-c4d9-42bc-d206-8cf9817d8d64"
      },
      "execution_count": null,
      "outputs": [
        {
          "output_type": "execute_result",
          "data": {
            "text/plain": [
              "60000"
            ]
          },
          "metadata": {},
          "execution_count": 19
        }
      ]
    },
    {
      "cell_type": "code",
      "source": [
        "len(y_test)"
      ],
      "metadata": {
        "colab": {
          "base_uri": "https://localhost:8080/"
        },
        "id": "GNpf6MX_2fn8",
        "outputId": "e190781a-833a-41ca-b425-dccd9f4a6777"
      },
      "execution_count": null,
      "outputs": [
        {
          "output_type": "execute_result",
          "data": {
            "text/plain": [
              "10000"
            ]
          },
          "metadata": {},
          "execution_count": 20
        }
      ]
    },
    {
      "cell_type": "code",
      "source": [
        "#scaling down between 0 ans 1  to increase accuracy (by dividng by 255)\n",
        "x_train = x_train / 255\n",
        "x_test = x_test / 255"
      ],
      "metadata": {
        "id": "JYNRs4d9Ba0k"
      },
      "execution_count": null,
      "outputs": []
    },
    {
      "cell_type": "code",
      "source": [
        "x_train[0].shape #looking at each sample"
      ],
      "metadata": {
        "colab": {
          "base_uri": "https://localhost:8080/"
        },
        "id": "Fw-WyqA02g5Y",
        "outputId": "70d94118-adc5-4da0-8a77-ccd0c546e8c2"
      },
      "execution_count": null,
      "outputs": [
        {
          "output_type": "execute_result",
          "data": {
            "text/plain": [
              "(28, 28)"
            ]
          },
          "metadata": {},
          "execution_count": 50
        }
      ]
    },
    {
      "cell_type": "code",
      "source": [
        "x_train[0] #2D array"
      ],
      "metadata": {
        "colab": {
          "base_uri": "https://localhost:8080/"
        },
        "id": "OnZ9wnfD290r",
        "outputId": "6a8ef95f-418e-476d-c895-86c873225a4b"
      },
      "execution_count": null,
      "outputs": [
        {
          "output_type": "execute_result",
          "data": {
            "text/plain": [
              "array([[0.00000000e+00, 0.00000000e+00, 0.00000000e+00, 0.00000000e+00,\n",
              "        0.00000000e+00, 0.00000000e+00, 0.00000000e+00, 0.00000000e+00,\n",
              "        0.00000000e+00, 0.00000000e+00, 0.00000000e+00, 0.00000000e+00,\n",
              "        0.00000000e+00, 0.00000000e+00, 0.00000000e+00, 0.00000000e+00,\n",
              "        0.00000000e+00, 0.00000000e+00, 0.00000000e+00, 0.00000000e+00,\n",
              "        0.00000000e+00, 0.00000000e+00, 0.00000000e+00, 0.00000000e+00,\n",
              "        0.00000000e+00, 0.00000000e+00, 0.00000000e+00, 0.00000000e+00],\n",
              "       [0.00000000e+00, 0.00000000e+00, 0.00000000e+00, 0.00000000e+00,\n",
              "        0.00000000e+00, 0.00000000e+00, 0.00000000e+00, 0.00000000e+00,\n",
              "        0.00000000e+00, 0.00000000e+00, 0.00000000e+00, 0.00000000e+00,\n",
              "        0.00000000e+00, 0.00000000e+00, 0.00000000e+00, 0.00000000e+00,\n",
              "        0.00000000e+00, 0.00000000e+00, 0.00000000e+00, 0.00000000e+00,\n",
              "        0.00000000e+00, 0.00000000e+00, 0.00000000e+00, 0.00000000e+00,\n",
              "        0.00000000e+00, 0.00000000e+00, 0.00000000e+00, 0.00000000e+00],\n",
              "       [0.00000000e+00, 0.00000000e+00, 0.00000000e+00, 0.00000000e+00,\n",
              "        0.00000000e+00, 0.00000000e+00, 0.00000000e+00, 0.00000000e+00,\n",
              "        0.00000000e+00, 0.00000000e+00, 0.00000000e+00, 0.00000000e+00,\n",
              "        0.00000000e+00, 0.00000000e+00, 0.00000000e+00, 0.00000000e+00,\n",
              "        0.00000000e+00, 0.00000000e+00, 0.00000000e+00, 0.00000000e+00,\n",
              "        0.00000000e+00, 0.00000000e+00, 0.00000000e+00, 0.00000000e+00,\n",
              "        0.00000000e+00, 0.00000000e+00, 0.00000000e+00, 0.00000000e+00],\n",
              "       [0.00000000e+00, 0.00000000e+00, 0.00000000e+00, 0.00000000e+00,\n",
              "        0.00000000e+00, 0.00000000e+00, 0.00000000e+00, 0.00000000e+00,\n",
              "        0.00000000e+00, 0.00000000e+00, 0.00000000e+00, 0.00000000e+00,\n",
              "        0.00000000e+00, 0.00000000e+00, 0.00000000e+00, 0.00000000e+00,\n",
              "        0.00000000e+00, 0.00000000e+00, 0.00000000e+00, 0.00000000e+00,\n",
              "        0.00000000e+00, 0.00000000e+00, 0.00000000e+00, 0.00000000e+00,\n",
              "        0.00000000e+00, 0.00000000e+00, 0.00000000e+00, 0.00000000e+00],\n",
              "       [0.00000000e+00, 0.00000000e+00, 0.00000000e+00, 0.00000000e+00,\n",
              "        0.00000000e+00, 0.00000000e+00, 0.00000000e+00, 0.00000000e+00,\n",
              "        0.00000000e+00, 0.00000000e+00, 0.00000000e+00, 0.00000000e+00,\n",
              "        0.00000000e+00, 0.00000000e+00, 0.00000000e+00, 0.00000000e+00,\n",
              "        0.00000000e+00, 0.00000000e+00, 0.00000000e+00, 0.00000000e+00,\n",
              "        0.00000000e+00, 0.00000000e+00, 0.00000000e+00, 0.00000000e+00,\n",
              "        0.00000000e+00, 0.00000000e+00, 0.00000000e+00, 0.00000000e+00],\n",
              "       [0.00000000e+00, 0.00000000e+00, 0.00000000e+00, 0.00000000e+00,\n",
              "        0.00000000e+00, 0.00000000e+00, 0.00000000e+00, 0.00000000e+00,\n",
              "        0.00000000e+00, 0.00000000e+00, 0.00000000e+00, 0.00000000e+00,\n",
              "        4.61361015e-05, 2.76816609e-04, 2.76816609e-04, 2.76816609e-04,\n",
              "        1.93771626e-03, 2.09150327e-03, 2.69127259e-03, 3.99846213e-04,\n",
              "        2.55286428e-03, 3.92156863e-03, 3.79853902e-03, 1.95309496e-03,\n",
              "        0.00000000e+00, 0.00000000e+00, 0.00000000e+00, 0.00000000e+00],\n",
              "       [0.00000000e+00, 0.00000000e+00, 0.00000000e+00, 0.00000000e+00,\n",
              "        0.00000000e+00, 0.00000000e+00, 0.00000000e+00, 0.00000000e+00,\n",
              "        4.61361015e-04, 5.53633218e-04, 1.44559785e-03, 2.36831988e-03,\n",
              "        2.61437908e-03, 3.89081123e-03, 3.89081123e-03, 3.89081123e-03,\n",
              "        3.89081123e-03, 3.89081123e-03, 3.46020761e-03, 2.64513649e-03,\n",
              "        3.89081123e-03, 3.72164552e-03, 2.99884660e-03, 9.84236832e-04,\n",
              "        0.00000000e+00, 0.00000000e+00, 0.00000000e+00, 0.00000000e+00],\n",
              "       [0.00000000e+00, 0.00000000e+00, 0.00000000e+00, 0.00000000e+00,\n",
              "        0.00000000e+00, 0.00000000e+00, 0.00000000e+00, 7.53556324e-04,\n",
              "        3.66013072e-03, 3.89081123e-03, 3.89081123e-03, 3.89081123e-03,\n",
              "        3.89081123e-03, 3.89081123e-03, 3.89081123e-03, 3.89081123e-03,\n",
              "        3.89081123e-03, 3.86005383e-03, 1.43021915e-03, 1.26105344e-03,\n",
              "        1.26105344e-03, 8.61207228e-04, 5.99769319e-04, 0.00000000e+00,\n",
              "        0.00000000e+00, 0.00000000e+00, 0.00000000e+00, 0.00000000e+00],\n",
              "       [0.00000000e+00, 0.00000000e+00, 0.00000000e+00, 0.00000000e+00,\n",
              "        0.00000000e+00, 0.00000000e+00, 0.00000000e+00, 2.76816609e-04,\n",
              "        3.36793541e-03, 3.89081123e-03, 3.89081123e-03, 3.89081123e-03,\n",
              "        3.89081123e-03, 3.89081123e-03, 3.04498270e-03, 2.79892349e-03,\n",
              "        3.79853902e-03, 3.70626682e-03, 0.00000000e+00, 0.00000000e+00,\n",
              "        0.00000000e+00, 0.00000000e+00, 0.00000000e+00, 0.00000000e+00,\n",
              "        0.00000000e+00, 0.00000000e+00, 0.00000000e+00, 0.00000000e+00],\n",
              "       [0.00000000e+00, 0.00000000e+00, 0.00000000e+00, 0.00000000e+00,\n",
              "        0.00000000e+00, 0.00000000e+00, 0.00000000e+00, 0.00000000e+00,\n",
              "        1.23029604e-03, 2.39907728e-03, 1.64552095e-03, 3.89081123e-03,\n",
              "        3.89081123e-03, 3.15263360e-03, 1.69165705e-04, 0.00000000e+00,\n",
              "        6.61284121e-04, 2.36831988e-03, 0.00000000e+00, 0.00000000e+00,\n",
              "        0.00000000e+00, 0.00000000e+00, 0.00000000e+00, 0.00000000e+00,\n",
              "        0.00000000e+00, 0.00000000e+00, 0.00000000e+00, 0.00000000e+00],\n",
              "       [0.00000000e+00, 0.00000000e+00, 0.00000000e+00, 0.00000000e+00,\n",
              "        0.00000000e+00, 0.00000000e+00, 0.00000000e+00, 0.00000000e+00,\n",
              "        0.00000000e+00, 2.15301807e-04, 1.53787005e-05, 2.36831988e-03,\n",
              "        3.89081123e-03, 1.38408304e-03, 0.00000000e+00, 0.00000000e+00,\n",
              "        0.00000000e+00, 0.00000000e+00, 0.00000000e+00, 0.00000000e+00,\n",
              "        0.00000000e+00, 0.00000000e+00, 0.00000000e+00, 0.00000000e+00,\n",
              "        0.00000000e+00, 0.00000000e+00, 0.00000000e+00, 0.00000000e+00],\n",
              "       [0.00000000e+00, 0.00000000e+00, 0.00000000e+00, 0.00000000e+00,\n",
              "        0.00000000e+00, 0.00000000e+00, 0.00000000e+00, 0.00000000e+00,\n",
              "        0.00000000e+00, 0.00000000e+00, 0.00000000e+00, 2.13763937e-03,\n",
              "        3.89081123e-03, 2.92195309e-03, 3.07574010e-05, 0.00000000e+00,\n",
              "        0.00000000e+00, 0.00000000e+00, 0.00000000e+00, 0.00000000e+00,\n",
              "        0.00000000e+00, 0.00000000e+00, 0.00000000e+00, 0.00000000e+00,\n",
              "        0.00000000e+00, 0.00000000e+00, 0.00000000e+00, 0.00000000e+00],\n",
              "       [0.00000000e+00, 0.00000000e+00, 0.00000000e+00, 0.00000000e+00,\n",
              "        0.00000000e+00, 0.00000000e+00, 0.00000000e+00, 0.00000000e+00,\n",
              "        0.00000000e+00, 0.00000000e+00, 0.00000000e+00, 1.69165705e-04,\n",
              "        2.92195309e-03, 3.89081123e-03, 1.07650903e-03, 0.00000000e+00,\n",
              "        0.00000000e+00, 0.00000000e+00, 0.00000000e+00, 0.00000000e+00,\n",
              "        0.00000000e+00, 0.00000000e+00, 0.00000000e+00, 0.00000000e+00,\n",
              "        0.00000000e+00, 0.00000000e+00, 0.00000000e+00, 0.00000000e+00],\n",
              "       [0.00000000e+00, 0.00000000e+00, 0.00000000e+00, 0.00000000e+00,\n",
              "        0.00000000e+00, 0.00000000e+00, 0.00000000e+00, 0.00000000e+00,\n",
              "        0.00000000e+00, 0.00000000e+00, 0.00000000e+00, 0.00000000e+00,\n",
              "        5.38254517e-04, 3.70626682e-03, 3.46020761e-03, 2.46059208e-03,\n",
              "        1.66089965e-03, 1.53787005e-05, 0.00000000e+00, 0.00000000e+00,\n",
              "        0.00000000e+00, 0.00000000e+00, 0.00000000e+00, 0.00000000e+00,\n",
              "        0.00000000e+00, 0.00000000e+00, 0.00000000e+00, 0.00000000e+00],\n",
              "       [0.00000000e+00, 0.00000000e+00, 0.00000000e+00, 0.00000000e+00,\n",
              "        0.00000000e+00, 0.00000000e+00, 0.00000000e+00, 0.00000000e+00,\n",
              "        0.00000000e+00, 0.00000000e+00, 0.00000000e+00, 0.00000000e+00,\n",
              "        0.00000000e+00, 1.24567474e-03, 3.69088812e-03, 3.89081123e-03,\n",
              "        3.89081123e-03, 1.83006536e-03, 3.84467512e-04, 0.00000000e+00,\n",
              "        0.00000000e+00, 0.00000000e+00, 0.00000000e+00, 0.00000000e+00,\n",
              "        0.00000000e+00, 0.00000000e+00, 0.00000000e+00, 0.00000000e+00],\n",
              "       [0.00000000e+00, 0.00000000e+00, 0.00000000e+00, 0.00000000e+00,\n",
              "        0.00000000e+00, 0.00000000e+00, 0.00000000e+00, 0.00000000e+00,\n",
              "        0.00000000e+00, 0.00000000e+00, 0.00000000e+00, 0.00000000e+00,\n",
              "        0.00000000e+00, 0.00000000e+00, 6.92041522e-04, 2.86043829e-03,\n",
              "        3.89081123e-03, 3.89081123e-03, 2.30680507e-03, 4.15224913e-04,\n",
              "        0.00000000e+00, 0.00000000e+00, 0.00000000e+00, 0.00000000e+00,\n",
              "        0.00000000e+00, 0.00000000e+00, 0.00000000e+00, 0.00000000e+00],\n",
              "       [0.00000000e+00, 0.00000000e+00, 0.00000000e+00, 0.00000000e+00,\n",
              "        0.00000000e+00, 0.00000000e+00, 0.00000000e+00, 0.00000000e+00,\n",
              "        0.00000000e+00, 0.00000000e+00, 0.00000000e+00, 0.00000000e+00,\n",
              "        0.00000000e+00, 0.00000000e+00, 0.00000000e+00, 2.46059208e-04,\n",
              "        1.43021915e-03, 3.87543253e-03, 3.89081123e-03, 2.87581699e-03,\n",
              "        0.00000000e+00, 0.00000000e+00, 0.00000000e+00, 0.00000000e+00,\n",
              "        0.00000000e+00, 0.00000000e+00, 0.00000000e+00, 0.00000000e+00],\n",
              "       [0.00000000e+00, 0.00000000e+00, 0.00000000e+00, 0.00000000e+00,\n",
              "        0.00000000e+00, 0.00000000e+00, 0.00000000e+00, 0.00000000e+00,\n",
              "        0.00000000e+00, 0.00000000e+00, 0.00000000e+00, 0.00000000e+00,\n",
              "        0.00000000e+00, 0.00000000e+00, 0.00000000e+00, 0.00000000e+00,\n",
              "        0.00000000e+00, 3.82929642e-03, 3.89081123e-03, 3.82929642e-03,\n",
              "        9.84236832e-04, 0.00000000e+00, 0.00000000e+00, 0.00000000e+00,\n",
              "        0.00000000e+00, 0.00000000e+00, 0.00000000e+00, 0.00000000e+00],\n",
              "       [0.00000000e+00, 0.00000000e+00, 0.00000000e+00, 0.00000000e+00,\n",
              "        0.00000000e+00, 0.00000000e+00, 0.00000000e+00, 0.00000000e+00,\n",
              "        0.00000000e+00, 0.00000000e+00, 0.00000000e+00, 0.00000000e+00,\n",
              "        0.00000000e+00, 0.00000000e+00, 7.07420223e-04, 1.99923106e-03,\n",
              "        2.81430219e-03, 3.89081123e-03, 3.89081123e-03, 3.18339100e-03,\n",
              "        3.07574010e-05, 0.00000000e+00, 0.00000000e+00, 0.00000000e+00,\n",
              "        0.00000000e+00, 0.00000000e+00, 0.00000000e+00, 0.00000000e+00],\n",
              "       [0.00000000e+00, 0.00000000e+00, 0.00000000e+00, 0.00000000e+00,\n",
              "        0.00000000e+00, 0.00000000e+00, 0.00000000e+00, 0.00000000e+00,\n",
              "        0.00000000e+00, 0.00000000e+00, 0.00000000e+00, 0.00000000e+00,\n",
              "        5.99769319e-04, 2.27604767e-03, 3.52172241e-03, 3.89081123e-03,\n",
              "        3.89081123e-03, 3.89081123e-03, 3.84467512e-03, 2.79892349e-03,\n",
              "        0.00000000e+00, 0.00000000e+00, 0.00000000e+00, 0.00000000e+00,\n",
              "        0.00000000e+00, 0.00000000e+00, 0.00000000e+00, 0.00000000e+00],\n",
              "       [0.00000000e+00, 0.00000000e+00, 0.00000000e+00, 0.00000000e+00,\n",
              "        0.00000000e+00, 0.00000000e+00, 0.00000000e+00, 0.00000000e+00,\n",
              "        0.00000000e+00, 0.00000000e+00, 3.69088812e-04, 1.75317186e-03,\n",
              "        3.39869281e-03, 3.89081123e-03, 3.89081123e-03, 3.89081123e-03,\n",
              "        3.89081123e-03, 3.09111880e-03, 1.19953864e-03, 0.00000000e+00,\n",
              "        0.00000000e+00, 0.00000000e+00, 0.00000000e+00, 0.00000000e+00,\n",
              "        0.00000000e+00, 0.00000000e+00, 0.00000000e+00, 0.00000000e+00],\n",
              "       [0.00000000e+00, 0.00000000e+00, 0.00000000e+00, 0.00000000e+00,\n",
              "        0.00000000e+00, 0.00000000e+00, 0.00000000e+00, 0.00000000e+00,\n",
              "        3.53710111e-04, 1.01499423e-03, 3.27566321e-03, 3.89081123e-03,\n",
              "        3.89081123e-03, 3.89081123e-03, 3.89081123e-03, 3.04498270e-03,\n",
              "        1.24567474e-03, 3.07574010e-05, 0.00000000e+00, 0.00000000e+00,\n",
              "        0.00000000e+00, 0.00000000e+00, 0.00000000e+00, 0.00000000e+00,\n",
              "        0.00000000e+00, 0.00000000e+00, 0.00000000e+00, 0.00000000e+00],\n",
              "       [0.00000000e+00, 0.00000000e+00, 0.00000000e+00, 0.00000000e+00,\n",
              "        0.00000000e+00, 0.00000000e+00, 2.76816609e-04, 2.62975779e-03,\n",
              "        3.36793541e-03, 3.89081123e-03, 3.89081123e-03, 3.89081123e-03,\n",
              "        3.89081123e-03, 2.99884660e-03, 1.23029604e-03, 1.38408304e-04,\n",
              "        0.00000000e+00, 0.00000000e+00, 0.00000000e+00, 0.00000000e+00,\n",
              "        0.00000000e+00, 0.00000000e+00, 0.00000000e+00, 0.00000000e+00,\n",
              "        0.00000000e+00, 0.00000000e+00, 0.00000000e+00, 0.00000000e+00],\n",
              "       [0.00000000e+00, 0.00000000e+00, 0.00000000e+00, 0.00000000e+00,\n",
              "        8.45828527e-04, 2.64513649e-03, 3.47558631e-03, 3.89081123e-03,\n",
              "        3.89081123e-03, 3.89081123e-03, 3.89081123e-03, 3.75240292e-03,\n",
              "        2.04536717e-03, 1.69165705e-04, 0.00000000e+00, 0.00000000e+00,\n",
              "        0.00000000e+00, 0.00000000e+00, 0.00000000e+00, 0.00000000e+00,\n",
              "        0.00000000e+00, 0.00000000e+00, 0.00000000e+00, 0.00000000e+00,\n",
              "        0.00000000e+00, 0.00000000e+00, 0.00000000e+00, 0.00000000e+00],\n",
              "       [0.00000000e+00, 0.00000000e+00, 0.00000000e+00, 0.00000000e+00,\n",
              "        2.09150327e-03, 3.89081123e-03, 3.89081123e-03, 3.89081123e-03,\n",
              "        3.26028451e-03, 2.07612457e-03, 2.02998847e-03, 2.46059208e-04,\n",
              "        0.00000000e+00, 0.00000000e+00, 0.00000000e+00, 0.00000000e+00,\n",
              "        0.00000000e+00, 0.00000000e+00, 0.00000000e+00, 0.00000000e+00,\n",
              "        0.00000000e+00, 0.00000000e+00, 0.00000000e+00, 0.00000000e+00,\n",
              "        0.00000000e+00, 0.00000000e+00, 0.00000000e+00, 0.00000000e+00],\n",
              "       [0.00000000e+00, 0.00000000e+00, 0.00000000e+00, 0.00000000e+00,\n",
              "        0.00000000e+00, 0.00000000e+00, 0.00000000e+00, 0.00000000e+00,\n",
              "        0.00000000e+00, 0.00000000e+00, 0.00000000e+00, 0.00000000e+00,\n",
              "        0.00000000e+00, 0.00000000e+00, 0.00000000e+00, 0.00000000e+00,\n",
              "        0.00000000e+00, 0.00000000e+00, 0.00000000e+00, 0.00000000e+00,\n",
              "        0.00000000e+00, 0.00000000e+00, 0.00000000e+00, 0.00000000e+00,\n",
              "        0.00000000e+00, 0.00000000e+00, 0.00000000e+00, 0.00000000e+00],\n",
              "       [0.00000000e+00, 0.00000000e+00, 0.00000000e+00, 0.00000000e+00,\n",
              "        0.00000000e+00, 0.00000000e+00, 0.00000000e+00, 0.00000000e+00,\n",
              "        0.00000000e+00, 0.00000000e+00, 0.00000000e+00, 0.00000000e+00,\n",
              "        0.00000000e+00, 0.00000000e+00, 0.00000000e+00, 0.00000000e+00,\n",
              "        0.00000000e+00, 0.00000000e+00, 0.00000000e+00, 0.00000000e+00,\n",
              "        0.00000000e+00, 0.00000000e+00, 0.00000000e+00, 0.00000000e+00,\n",
              "        0.00000000e+00, 0.00000000e+00, 0.00000000e+00, 0.00000000e+00],\n",
              "       [0.00000000e+00, 0.00000000e+00, 0.00000000e+00, 0.00000000e+00,\n",
              "        0.00000000e+00, 0.00000000e+00, 0.00000000e+00, 0.00000000e+00,\n",
              "        0.00000000e+00, 0.00000000e+00, 0.00000000e+00, 0.00000000e+00,\n",
              "        0.00000000e+00, 0.00000000e+00, 0.00000000e+00, 0.00000000e+00,\n",
              "        0.00000000e+00, 0.00000000e+00, 0.00000000e+00, 0.00000000e+00,\n",
              "        0.00000000e+00, 0.00000000e+00, 0.00000000e+00, 0.00000000e+00,\n",
              "        0.00000000e+00, 0.00000000e+00, 0.00000000e+00, 0.00000000e+00]])"
            ]
          },
          "metadata": {},
          "execution_count": 51
        }
      ]
    },
    {
      "cell_type": "code",
      "source": [
        "plt.matshow(x_train[0]) #plotting our first train data image"
      ],
      "metadata": {
        "colab": {
          "base_uri": "https://localhost:8080/",
          "height": 454
        },
        "id": "ZCN7Iigl3Cey",
        "outputId": "0cdf0782-5a70-49b1-ffec-8dab90c5cf47"
      },
      "execution_count": null,
      "outputs": [
        {
          "output_type": "execute_result",
          "data": {
            "text/plain": [
              "<matplotlib.image.AxesImage at 0x7f1f2b31add0>"
            ]
          },
          "metadata": {},
          "execution_count": 52
        },
        {
          "output_type": "display_data",
          "data": {
            "text/plain": [
              "<Figure size 480x480 with 1 Axes>"
            ],
            "image/png": "[encoded data removed]"
          },
          "metadata": {}
        }
      ]
    },
    {
      "cell_type": "code",
      "source": [
        "plt.matshow(x_train[1])"
      ],
      "metadata": {
        "colab": {
          "base_uri": "https://localhost:8080/",
          "height": 454
        },
        "id": "Q6j7oMS83jvC",
        "outputId": "71dcb89c-462a-4fab-f5a4-7104be8036f1"
      },
      "execution_count": null,
      "outputs": [
        {
          "output_type": "execute_result",
          "data": {
            "text/plain": [
              "<matplotlib.image.AxesImage at 0x7f1f2ae1f160>"
            ]
          },
          "metadata": {},
          "execution_count": 53
        },
        {
          "output_type": "display_data",
          "data": {
            "text/plain": [
              "<Figure size 480x480 with 1 Axes>"
            ],
            "image/png": "[encoded data removed]"
          },
          "metadata": {}
        }
      ]
    },
    {
      "cell_type": "code",
      "source": [
        "y_train[:5] # y_train contains number between 0 and 9"
      ],
      "metadata": {
        "colab": {
          "base_uri": "https://localhost:8080/"
        },
        "id": "ZgwKKfNN3tML",
        "outputId": "7c6a24ec-5f52-4e71-f870-135c072b9a3e"
      },
      "execution_count": null,
      "outputs": [
        {
          "output_type": "execute_result",
          "data": {
            "text/plain": [
              "array([5, 0, 4, 1, 9], dtype=uint8)"
            ]
          },
          "metadata": {},
          "execution_count": 54
        }
      ]
    },
    {
      "cell_type": "markdown",
      "source": [
        "FLATTENING 2D ARRAY"
      ],
      "metadata": {
        "id": "c63uEhdP4bPd"
      }
    },
    {
      "cell_type": "code",
      "source": [
        "x_train.shape #(no. of samples we have, each individual image(28,28)) and we want (6000,28*28)"
      ],
      "metadata": {
        "colab": {
          "base_uri": "https://localhost:8080/"
        },
        "id": "_r-LH4rs34al",
        "outputId": "6590a097-e022-480e-f069-58852e56cf27"
      },
      "execution_count": null,
      "outputs": [
        {
          "output_type": "execute_result",
          "data": {
            "text/plain": [
              "(60000, 28, 28)"
            ]
          },
          "metadata": {},
          "execution_count": 55
        }
      ]
    },
    {
      "cell_type": "code",
      "source": [
        "x_train_flattened = x_train.reshape(len(x_train),28*28)  # no need to flatten y_train its an simple array"
      ],
      "metadata": {
        "id": "dH5Zyccl5JsI"
      },
      "execution_count": null,
      "outputs": []
    },
    {
      "cell_type": "code",
      "source": [
        "print (x_train_flattened)"
      ],
      "metadata": {
        "colab": {
          "base_uri": "https://localhost:8080/"
        },
        "id": "pU0yblUI57Up",
        "outputId": "b3d38aee-20a0-4f4e-95be-f305afe769fa"
      },
      "execution_count": null,
      "outputs": [
        {
          "output_type": "stream",
          "name": "stdout",
          "text": [
            "[[0. 0. 0. ... 0. 0. 0.]\n",
            " [0. 0. 0. ... 0. 0. 0.]\n",
            " [0. 0. 0. ... 0. 0. 0.]\n",
            " ...\n",
            " [0. 0. 0. ... 0. 0. 0.]\n",
            " [0. 0. 0. ... 0. 0. 0.]\n",
            " [0. 0. 0. ... 0. 0. 0.]]\n"
          ]
        }
      ]
    },
    {
      "cell_type": "code",
      "source": [
        "x_test_flattened = x_test.reshape(len(x_test),28*28)"
      ],
      "metadata": {
        "id": "N01wQf946LCJ"
      },
      "execution_count": null,
      "outputs": []
    },
    {
      "cell_type": "code",
      "source": [
        "x_test_flattened.shape #1D array"
      ],
      "metadata": {
        "colab": {
          "base_uri": "https://localhost:8080/"
        },
        "id": "i0Fj8-jJ6ZHr",
        "outputId": "89e6e691-64cd-4788-e3ca-779d4b4a5dfe"
      },
      "execution_count": null,
      "outputs": [
        {
          "output_type": "execute_result",
          "data": {
            "text/plain": [
              "(10000, 784)"
            ]
          },
          "metadata": {},
          "execution_count": 59
        }
      ]
    },
    {
      "cell_type": "code",
      "source": [
        "x_test_flattened[0]"
      ],
      "metadata": {
        "colab": {
          "base_uri": "https://localhost:8080/"
        },
        "id": "Ek0lmn3a6hUA",
        "outputId": "4bcbe189-ab8e-4a34-b5ca-6a0011e1c615"
      },
      "execution_count": null,
      "outputs": [
        {
          "output_type": "execute_result",
          "data": {
            "text/plain": [
              "array([0.00000000e+00, 0.00000000e+00, 0.00000000e+00, 0.00000000e+00,\n",
              "       0.00000000e+00, 0.00000000e+00, 0.00000000e+00, 0.00000000e+00,\n",
              "       0.00000000e+00, 0.00000000e+00, 0.00000000e+00, 0.00000000e+00,\n",
              "       0.00000000e+00, 0.00000000e+00, 0.00000000e+00, 0.00000000e+00,\n",
              "       0.00000000e+00, 0.00000000e+00, 0.00000000e+00, 0.00000000e+00,\n",
              "       0.00000000e+00, 0.00000000e+00, 0.00000000e+00, 0.00000000e+00,\n",
              "       0.00000000e+00, 0.00000000e+00, 0.00000000e+00, 0.00000000e+00,\n",
              "       0.00000000e+00, 0.00000000e+00, 0.00000000e+00, 0.00000000e+00,\n",
              "       0.00000000e+00, 0.00000000e+00, 0.00000000e+00, 0.00000000e+00,\n",
              "       0.00000000e+00, 0.00000000e+00, 0.00000000e+00, 0.00000000e+00,\n",
              "       0.00000000e+00, 0.00000000e+00, 0.00000000e+00, 0.00000000e+00,\n",
              "       0.00000000e+00, 0.00000000e+00, 0.00000000e+00, 0.00000000e+00,\n",
              "       0.00000000e+00, 0.00000000e+00, 0.00000000e+00, 0.00000000e+00,\n",
              "       0.00000000e+00, 0.00000000e+00, 0.00000000e+00, 0.00000000e+00,\n",
              "       0.00000000e+00, 0.00000000e+00, 0.00000000e+00, 0.00000000e+00,\n",
              "       0.00000000e+00, 0.00000000e+00, 0.00000000e+00, 0.00000000e+00,\n",
              "       0.00000000e+00, 0.00000000e+00, 0.00000000e+00, 0.00000000e+00,\n",
              "       0.00000000e+00, 0.00000000e+00, 0.00000000e+00, 0.00000000e+00,\n",
              "       0.00000000e+00, 0.00000000e+00, 0.00000000e+00, 0.00000000e+00,\n",
              "       0.00000000e+00, 0.00000000e+00, 0.00000000e+00, 0.00000000e+00,\n",
              "       0.00000000e+00, 0.00000000e+00, 0.00000000e+00, 0.00000000e+00,\n",
              "       0.00000000e+00, 0.00000000e+00, 0.00000000e+00, 0.00000000e+00,\n",
              "       0.00000000e+00, 0.00000000e+00, 0.00000000e+00, 0.00000000e+00,\n",
              "       0.00000000e+00, 0.00000000e+00, 0.00000000e+00, 0.00000000e+00,\n",
              "       0.00000000e+00, 0.00000000e+00, 0.00000000e+00, 0.00000000e+00,\n",
              "       0.00000000e+00, 0.00000000e+00, 0.00000000e+00, 0.00000000e+00,\n",
              "       0.00000000e+00, 0.00000000e+00, 0.00000000e+00, 0.00000000e+00,\n",
              "       0.00000000e+00, 0.00000000e+00, 0.00000000e+00, 0.00000000e+00,\n",
              "       0.00000000e+00, 0.00000000e+00, 0.00000000e+00, 0.00000000e+00,\n",
              "       0.00000000e+00, 0.00000000e+00, 0.00000000e+00, 0.00000000e+00,\n",
              "       0.00000000e+00, 0.00000000e+00, 0.00000000e+00, 0.00000000e+00,\n",
              "       0.00000000e+00, 0.00000000e+00, 0.00000000e+00, 0.00000000e+00,\n",
              "       0.00000000e+00, 0.00000000e+00, 0.00000000e+00, 0.00000000e+00,\n",
              "       0.00000000e+00, 0.00000000e+00, 0.00000000e+00, 0.00000000e+00,\n",
              "       0.00000000e+00, 0.00000000e+00, 0.00000000e+00, 0.00000000e+00,\n",
              "       0.00000000e+00, 0.00000000e+00, 0.00000000e+00, 0.00000000e+00,\n",
              "       0.00000000e+00, 0.00000000e+00, 0.00000000e+00, 0.00000000e+00,\n",
              "       0.00000000e+00, 0.00000000e+00, 0.00000000e+00, 0.00000000e+00,\n",
              "       0.00000000e+00, 0.00000000e+00, 0.00000000e+00, 0.00000000e+00,\n",
              "       0.00000000e+00, 0.00000000e+00, 0.00000000e+00, 0.00000000e+00,\n",
              "       0.00000000e+00, 0.00000000e+00, 0.00000000e+00, 0.00000000e+00,\n",
              "       0.00000000e+00, 0.00000000e+00, 0.00000000e+00, 0.00000000e+00,\n",
              "       0.00000000e+00, 0.00000000e+00, 0.00000000e+00, 0.00000000e+00,\n",
              "       0.00000000e+00, 0.00000000e+00, 0.00000000e+00, 0.00000000e+00,\n",
              "       0.00000000e+00, 0.00000000e+00, 0.00000000e+00, 0.00000000e+00,\n",
              "       0.00000000e+00, 0.00000000e+00, 0.00000000e+00, 0.00000000e+00,\n",
              "       0.00000000e+00, 0.00000000e+00, 0.00000000e+00, 0.00000000e+00,\n",
              "       0.00000000e+00, 0.00000000e+00, 0.00000000e+00, 0.00000000e+00,\n",
              "       0.00000000e+00, 0.00000000e+00, 0.00000000e+00, 0.00000000e+00,\n",
              "       0.00000000e+00, 0.00000000e+00, 0.00000000e+00, 0.00000000e+00,\n",
              "       0.00000000e+00, 0.00000000e+00, 1.29181084e-03, 2.84505959e-03,\n",
              "       2.44521338e-03, 2.32218378e-03, 9.22722030e-04, 5.53633218e-04,\n",
              "       0.00000000e+00, 0.00000000e+00, 0.00000000e+00, 0.00000000e+00,\n",
              "       0.00000000e+00, 0.00000000e+00, 0.00000000e+00, 0.00000000e+00,\n",
              "       0.00000000e+00, 0.00000000e+00, 0.00000000e+00, 0.00000000e+00,\n",
              "       0.00000000e+00, 0.00000000e+00, 0.00000000e+00, 0.00000000e+00,\n",
              "       0.00000000e+00, 0.00000000e+00, 0.00000000e+00, 0.00000000e+00,\n",
              "       0.00000000e+00, 0.00000000e+00, 3.41407151e-03, 3.90618993e-03,\n",
              "       3.90618993e-03, 3.90618993e-03, 3.90618993e-03, 3.70626682e-03,\n",
              "       3.04498270e-03, 3.04498270e-03, 3.04498270e-03, 3.04498270e-03,\n",
              "       3.04498270e-03, 3.04498270e-03, 3.04498270e-03, 3.04498270e-03,\n",
              "       2.61437908e-03, 7.99692426e-04, 0.00000000e+00, 0.00000000e+00,\n",
              "       0.00000000e+00, 0.00000000e+00, 0.00000000e+00, 0.00000000e+00,\n",
              "       0.00000000e+00, 0.00000000e+00, 0.00000000e+00, 0.00000000e+00,\n",
              "       0.00000000e+00, 0.00000000e+00, 1.03037293e-03, 1.75317186e-03,\n",
              "       1.10726644e-03, 1.75317186e-03, 2.50672818e-03, 3.49096501e-03,\n",
              "       3.90618993e-03, 3.46020761e-03, 3.90618993e-03, 3.90618993e-03,\n",
              "       3.90618993e-03, 3.84467512e-03, 3.52172241e-03, 3.90618993e-03,\n",
              "       3.90618993e-03, 2.15301807e-03, 0.00000000e+00, 0.00000000e+00,\n",
              "       0.00000000e+00, 0.00000000e+00, 0.00000000e+00, 0.00000000e+00,\n",
              "       0.00000000e+00, 0.00000000e+00, 0.00000000e+00, 0.00000000e+00,\n",
              "       0.00000000e+00, 0.00000000e+00, 0.00000000e+00, 0.00000000e+00,\n",
              "       0.00000000e+00, 0.00000000e+00, 0.00000000e+00, 2.61437908e-04,\n",
              "       1.01499423e-03, 2.15301807e-04, 1.03037293e-03, 1.03037293e-03,\n",
              "       1.03037293e-03, 9.07343329e-04, 3.22952710e-04, 3.62937332e-03,\n",
              "       3.90618993e-03, 1.63014225e-03, 0.00000000e+00, 0.00000000e+00,\n",
              "       0.00000000e+00, 0.00000000e+00, 0.00000000e+00, 0.00000000e+00,\n",
              "       0.00000000e+00, 0.00000000e+00, 0.00000000e+00, 0.00000000e+00,\n",
              "       0.00000000e+00, 0.00000000e+00, 0.00000000e+00, 0.00000000e+00,\n",
              "       0.00000000e+00, 0.00000000e+00, 0.00000000e+00, 0.00000000e+00,\n",
              "       0.00000000e+00, 0.00000000e+00, 0.00000000e+00, 0.00000000e+00,\n",
              "       0.00000000e+00, 0.00000000e+00, 1.27643214e-03, 3.89081123e-03,\n",
              "       3.21414840e-03, 2.76816609e-04, 0.00000000e+00, 0.00000000e+00,\n",
              "       0.00000000e+00, 0.00000000e+00, 0.00000000e+00, 0.00000000e+00,\n",
              "       0.00000000e+00, 0.00000000e+00, 0.00000000e+00, 0.00000000e+00,\n",
              "       0.00000000e+00, 0.00000000e+00, 0.00000000e+00, 0.00000000e+00,\n",
              "       0.00000000e+00, 0.00000000e+00, 0.00000000e+00, 0.00000000e+00,\n",
              "       0.00000000e+00, 0.00000000e+00, 0.00000000e+00, 0.00000000e+00,\n",
              "       0.00000000e+00, 3.38331411e-04, 3.58323722e-03, 3.92156863e-03,\n",
              "       1.27643214e-03, 0.00000000e+00, 0.00000000e+00, 0.00000000e+00,\n",
              "       0.00000000e+00, 0.00000000e+00, 0.00000000e+00, 0.00000000e+00,\n",
              "       0.00000000e+00, 0.00000000e+00, 0.00000000e+00, 0.00000000e+00,\n",
              "       0.00000000e+00, 0.00000000e+00, 0.00000000e+00, 0.00000000e+00,\n",
              "       0.00000000e+00, 0.00000000e+00, 0.00000000e+00, 0.00000000e+00,\n",
              "       0.00000000e+00, 0.00000000e+00, 0.00000000e+00, 0.00000000e+00,\n",
              "       0.00000000e+00, 1.98385236e-03, 3.90618993e-03, 3.66013072e-03,\n",
              "       6.76662822e-04, 0.00000000e+00, 0.00000000e+00, 0.00000000e+00,\n",
              "       0.00000000e+00, 0.00000000e+00, 0.00000000e+00, 0.00000000e+00,\n",
              "       0.00000000e+00, 0.00000000e+00, 0.00000000e+00, 0.00000000e+00,\n",
              "       0.00000000e+00, 0.00000000e+00, 0.00000000e+00, 0.00000000e+00,\n",
              "       0.00000000e+00, 0.00000000e+00, 0.00000000e+00, 0.00000000e+00,\n",
              "       0.00000000e+00, 0.00000000e+00, 0.00000000e+00, 0.00000000e+00,\n",
              "       9.07343329e-04, 3.82929642e-03, 3.90618993e-03, 9.53479431e-04,\n",
              "       0.00000000e+00, 0.00000000e+00, 0.00000000e+00, 0.00000000e+00,\n",
              "       0.00000000e+00, 0.00000000e+00, 0.00000000e+00, 0.00000000e+00,\n",
              "       0.00000000e+00, 0.00000000e+00, 0.00000000e+00, 0.00000000e+00,\n",
              "       0.00000000e+00, 0.00000000e+00, 0.00000000e+00, 0.00000000e+00,\n",
              "       0.00000000e+00, 0.00000000e+00, 0.00000000e+00, 0.00000000e+00,\n",
              "       0.00000000e+00, 0.00000000e+00, 0.00000000e+00, 0.00000000e+00,\n",
              "       2.04536717e-03, 3.90618993e-03, 2.87581699e-03, 7.68935025e-05,\n",
              "       0.00000000e+00, 0.00000000e+00, 0.00000000e+00, 0.00000000e+00,\n",
              "       0.00000000e+00, 0.00000000e+00, 0.00000000e+00, 0.00000000e+00,\n",
              "       0.00000000e+00, 0.00000000e+00, 0.00000000e+00, 0.00000000e+00,\n",
              "       0.00000000e+00, 0.00000000e+00, 0.00000000e+00, 0.00000000e+00,\n",
              "       0.00000000e+00, 0.00000000e+00, 0.00000000e+00, 0.00000000e+00,\n",
              "       0.00000000e+00, 0.00000000e+00, 0.00000000e+00, 1.38408304e-04,\n",
              "       3.15263360e-03, 3.81391772e-03, 8.91964629e-04, 0.00000000e+00,\n",
              "       0.00000000e+00, 0.00000000e+00, 0.00000000e+00, 0.00000000e+00,\n",
              "       0.00000000e+00, 0.00000000e+00, 0.00000000e+00, 0.00000000e+00,\n",
              "       0.00000000e+00, 0.00000000e+00, 0.00000000e+00, 0.00000000e+00,\n",
              "       0.00000000e+00, 0.00000000e+00, 0.00000000e+00, 0.00000000e+00,\n",
              "       0.00000000e+00, 0.00000000e+00, 0.00000000e+00, 0.00000000e+00,\n",
              "       0.00000000e+00, 0.00000000e+00, 0.00000000e+00, 1.93771626e-03,\n",
              "       3.90618993e-03, 2.79892349e-03, 0.00000000e+00, 0.00000000e+00,\n",
              "       0.00000000e+00, 0.00000000e+00, 0.00000000e+00, 0.00000000e+00,\n",
              "       0.00000000e+00, 0.00000000e+00, 0.00000000e+00, 0.00000000e+00,\n",
              "       0.00000000e+00, 0.00000000e+00, 0.00000000e+00, 0.00000000e+00,\n",
              "       0.00000000e+00, 0.00000000e+00, 0.00000000e+00, 0.00000000e+00,\n",
              "       0.00000000e+00, 0.00000000e+00, 0.00000000e+00, 0.00000000e+00,\n",
              "       0.00000000e+00, 0.00000000e+00, 1.15340254e-03, 3.86005383e-03,\n",
              "       3.69088812e-03, 8.76585928e-04, 0.00000000e+00, 0.00000000e+00,\n",
              "       0.00000000e+00, 0.00000000e+00, 0.00000000e+00, 0.00000000e+00,\n",
              "       0.00000000e+00, 0.00000000e+00, 0.00000000e+00, 0.00000000e+00,\n",
              "       0.00000000e+00, 0.00000000e+00, 0.00000000e+00, 0.00000000e+00,\n",
              "       0.00000000e+00, 0.00000000e+00, 0.00000000e+00, 0.00000000e+00,\n",
              "       0.00000000e+00, 0.00000000e+00, 0.00000000e+00, 0.00000000e+00,\n",
              "       0.00000000e+00, 2.92195309e-04, 3.39869281e-03, 3.90618993e-03,\n",
              "       2.55286428e-03, 0.00000000e+00, 0.00000000e+00, 0.00000000e+00,\n",
              "       0.00000000e+00, 0.00000000e+00, 0.00000000e+00, 0.00000000e+00,\n",
              "       0.00000000e+00, 0.00000000e+00, 0.00000000e+00, 0.00000000e+00,\n",
              "       0.00000000e+00, 0.00000000e+00, 0.00000000e+00, 0.00000000e+00,\n",
              "       0.00000000e+00, 0.00000000e+00, 0.00000000e+00, 0.00000000e+00,\n",
              "       0.00000000e+00, 0.00000000e+00, 0.00000000e+00, 0.00000000e+00,\n",
              "       4.61361015e-05, 3.12187620e-03, 3.90618993e-03, 3.36793541e-03,\n",
              "       5.38254517e-04, 0.00000000e+00, 0.00000000e+00, 0.00000000e+00,\n",
              "       0.00000000e+00, 0.00000000e+00, 0.00000000e+00, 0.00000000e+00,\n",
              "       0.00000000e+00, 0.00000000e+00, 0.00000000e+00, 0.00000000e+00,\n",
              "       0.00000000e+00, 0.00000000e+00, 0.00000000e+00, 0.00000000e+00,\n",
              "       0.00000000e+00, 0.00000000e+00, 0.00000000e+00, 0.00000000e+00,\n",
              "       0.00000000e+00, 0.00000000e+00, 0.00000000e+00, 0.00000000e+00,\n",
              "       5.84390619e-04, 3.90618993e-03, 3.90618993e-03, 1.18415994e-03,\n",
              "       0.00000000e+00, 0.00000000e+00, 0.00000000e+00, 0.00000000e+00,\n",
              "       0.00000000e+00, 0.00000000e+00, 0.00000000e+00, 0.00000000e+00,\n",
              "       0.00000000e+00, 0.00000000e+00, 0.00000000e+00, 0.00000000e+00,\n",
              "       0.00000000e+00, 0.00000000e+00, 0.00000000e+00, 0.00000000e+00,\n",
              "       0.00000000e+00, 0.00000000e+00, 0.00000000e+00, 0.00000000e+00,\n",
              "       0.00000000e+00, 0.00000000e+00, 0.00000000e+00, 4.76739715e-04,\n",
              "       3.44482891e-03, 3.90618993e-03, 1.76855056e-03, 1.53787005e-05,\n",
              "       0.00000000e+00, 0.00000000e+00, 0.00000000e+00, 0.00000000e+00,\n",
              "       0.00000000e+00, 0.00000000e+00, 0.00000000e+00, 0.00000000e+00,\n",
              "       0.00000000e+00, 0.00000000e+00, 0.00000000e+00, 0.00000000e+00,\n",
              "       0.00000000e+00, 0.00000000e+00, 0.00000000e+00, 0.00000000e+00,\n",
              "       0.00000000e+00, 0.00000000e+00, 0.00000000e+00, 0.00000000e+00,\n",
              "       0.00000000e+00, 0.00000000e+00, 0.00000000e+00, 2.04536717e-03,\n",
              "       3.90618993e-03, 3.90618993e-03, 7.99692426e-04, 0.00000000e+00,\n",
              "       0.00000000e+00, 0.00000000e+00, 0.00000000e+00, 0.00000000e+00,\n",
              "       0.00000000e+00, 0.00000000e+00, 0.00000000e+00, 0.00000000e+00,\n",
              "       0.00000000e+00, 0.00000000e+00, 0.00000000e+00, 0.00000000e+00,\n",
              "       0.00000000e+00, 0.00000000e+00, 0.00000000e+00, 0.00000000e+00,\n",
              "       0.00000000e+00, 0.00000000e+00, 0.00000000e+00, 0.00000000e+00,\n",
              "       0.00000000e+00, 0.00000000e+00, 9.38100730e-04, 3.72164552e-03,\n",
              "       3.90618993e-03, 3.90618993e-03, 7.99692426e-04, 0.00000000e+00,\n",
              "       0.00000000e+00, 0.00000000e+00, 0.00000000e+00, 0.00000000e+00,\n",
              "       0.00000000e+00, 0.00000000e+00, 0.00000000e+00, 0.00000000e+00,\n",
              "       0.00000000e+00, 0.00000000e+00, 0.00000000e+00, 0.00000000e+00,\n",
              "       0.00000000e+00, 0.00000000e+00, 0.00000000e+00, 0.00000000e+00,\n",
              "       0.00000000e+00, 0.00000000e+00, 0.00000000e+00, 0.00000000e+00,\n",
              "       0.00000000e+00, 0.00000000e+00, 1.86082276e-03, 3.90618993e-03,\n",
              "       3.90618993e-03, 3.36793541e-03, 6.15148020e-04, 0.00000000e+00,\n",
              "       0.00000000e+00, 0.00000000e+00, 0.00000000e+00, 0.00000000e+00,\n",
              "       0.00000000e+00, 0.00000000e+00, 0.00000000e+00, 0.00000000e+00,\n",
              "       0.00000000e+00, 0.00000000e+00, 0.00000000e+00, 0.00000000e+00,\n",
              "       0.00000000e+00, 0.00000000e+00, 0.00000000e+00, 0.00000000e+00,\n",
              "       0.00000000e+00, 0.00000000e+00, 0.00000000e+00, 0.00000000e+00,\n",
              "       0.00000000e+00, 0.00000000e+00, 1.86082276e-03, 3.90618993e-03,\n",
              "       3.18339100e-03, 2.76816609e-04, 0.00000000e+00, 0.00000000e+00,\n",
              "       0.00000000e+00, 0.00000000e+00, 0.00000000e+00, 0.00000000e+00,\n",
              "       0.00000000e+00, 0.00000000e+00, 0.00000000e+00, 0.00000000e+00,\n",
              "       0.00000000e+00, 0.00000000e+00, 0.00000000e+00, 0.00000000e+00,\n",
              "       0.00000000e+00, 0.00000000e+00, 0.00000000e+00, 0.00000000e+00,\n",
              "       0.00000000e+00, 0.00000000e+00, 0.00000000e+00, 0.00000000e+00,\n",
              "       0.00000000e+00, 0.00000000e+00, 0.00000000e+00, 0.00000000e+00,\n",
              "       0.00000000e+00, 0.00000000e+00, 0.00000000e+00, 0.00000000e+00,\n",
              "       0.00000000e+00, 0.00000000e+00, 0.00000000e+00, 0.00000000e+00,\n",
              "       0.00000000e+00, 0.00000000e+00, 0.00000000e+00, 0.00000000e+00,\n",
              "       0.00000000e+00, 0.00000000e+00, 0.00000000e+00, 0.00000000e+00])"
            ]
          },
          "metadata": {},
          "execution_count": 60
        }
      ]
    },
    {
      "cell_type": "markdown",
      "source": [
        "CREATING A NEURAL NETWORK - WITHOUT HIDDEN LAYER"
      ],
      "metadata": {
        "id": "b51TIqRr69tj"
      }
    },
    {
      "cell_type": "code",
      "source": [
        "model = keras.Sequential([keras.layers.Dense(10, input_shape=(784,), activation='sigmoid')]) #sequential means I have stack of layers in my neural network thus will accept every layer as one element.\n",
        "\n",
        "\n",
        "# DENSE---->All neurons in one layer are connected with every other neuron in second layer\n",
        "# Dense(10--->OUTPUTSHAPE(0-9 neurons), input_shape=(784,)----->784 1D NEURONS , activation='sigmoid')"
      ],
      "metadata": {
        "id": "TvSCDcUs6zWp"
      },
      "execution_count": null,
      "outputs": []
    },
    {
      "cell_type": "code",
      "source": [
        "# COMPILE\n",
        "\n",
        "# Model compilation is an activity performed after writing the statements in a model and before training starts. It checks for format errors, and defines the loss function, the optimizer or learning rate, and the metrics\n",
        "# optimizers allow you to train efficiently\n",
        "# loss = sparse_categorical_crossentropy --->output is categorical: 0-9\n",
        "                                       #--->sparse: output variable i.e y_train is an interger\n",
        "#accuracy--->we want an accurate model\n",
        "\n",
        "\n",
        "model.compile(optimizer='adam',\n",
        "              loss='sparse_categorical_crossentropy',\n",
        "              metrics=['accuracy'])"
      ],
      "metadata": {
        "id": "qnOyBu9C-DSz"
      },
      "execution_count": null,
      "outputs": []
    },
    {
      "cell_type": "code",
      "source": [
        "#TRAINING\n",
        "\n",
        "\n",
        "model.fit(x_train_flattened, y_train, epochs=5)\n",
        "\n",
        "#EPOCHS=refers to the one entire passing of training data through the algorithm,ONE ITERATION"
      ],
      "metadata": {
        "colab": {
          "base_uri": "https://localhost:8080/"
        },
        "id": "otUC6U_Q_0Ll",
        "outputId": "010f8406-2914-4862-ac3d-0461cc66c38c"
      },
      "execution_count": null,
      "outputs": [
        {
          "output_type": "stream",
          "name": "stdout",
          "text": [
            "Epoch 1/5\n",
            "1875/1875 [==============================] - 6s 2ms/step - loss: 2.1880 - accuracy: 0.5968\n",
            "Epoch 2/5\n",
            "1875/1875 [==============================] - 4s 2ms/step - loss: 1.9772 - accuracy: 0.7100\n",
            "Epoch 3/5\n",
            "1875/1875 [==============================] - 4s 2ms/step - loss: 1.7906 - accuracy: 0.7385\n",
            "Epoch 4/5\n",
            "1875/1875 [==============================] - 4s 2ms/step - loss: 1.6267 - accuracy: 0.7607\n",
            "Epoch 5/5\n",
            "1875/1875 [==============================] - 3s 2ms/step - loss: 1.4839 - accuracy: 0.7751\n"
          ]
        },
        {
          "output_type": "execute_result",
          "data": {
            "text/plain": [
              "<keras.callbacks.History at 0x7f1f2aeb87f0>"
            ]
          },
          "metadata": {},
          "execution_count": 63
        }
      ]
    },
    {
      "cell_type": "code",
      "source": [
        "#EVALUATE ACCURACY ON TEST DATA SET\n",
        "model.evaluate(x_test_flattened,y_test)"
      ],
      "metadata": {
        "colab": {
          "base_uri": "https://localhost:8080/"
        },
        "id": "WIX9cEvrAvmJ",
        "outputId": "f4a70363-c9a5-4481-93ac-af303b6379b4"
      },
      "execution_count": null,
      "outputs": [
        {
          "output_type": "stream",
          "name": "stdout",
          "text": [
            "313/313 [==============================] - 1s 2ms/step - loss: 1.4042 - accuracy: 0.8034\n"
          ]
        },
        {
          "output_type": "execute_result",
          "data": {
            "text/plain": [
              "[1.4042389392852783, 0.8033999800682068]"
            ]
          },
          "metadata": {},
          "execution_count": 64
        }
      ]
    },
    {
      "cell_type": "code",
      "source": [
        "#PRIDICTING\n",
        "plt.matshow(x_test[0])\n",
        "\n",
        "y_pridicted= model.predict(x_test_flattened) #predicting for all, first value should be 7\n"
      ],
      "metadata": {
        "colab": {
          "base_uri": "https://localhost:8080/",
          "height": 454
        },
        "id": "cz_UdbC9CTlx",
        "outputId": "7a8f287d-990d-45ce-a871-c7169906f3dd"
      },
      "execution_count": null,
      "outputs": [
        {
          "output_type": "stream",
          "name": "stdout",
          "text": [
            "313/313 [==============================] - 0s 1ms/step\n"
          ]
        },
        {
          "output_type": "display_data",
          "data": {
            "text/plain": [
              "<Figure size 480x480 with 1 Axes>"
            ],
            "image/png": "[encoded data removed]"
          },
          "metadata": {}
        }
      ]
    },
    {
      "cell_type": "code",
      "source": [
        "y_pridicted[0] #this gives all the values 0-9 now we need to find the max value"
      ],
      "metadata": {
        "colab": {
          "base_uri": "https://localhost:8080/"
        },
        "id": "vUAobrIKDclm",
        "outputId": "2e25935a-f6b7-4d5e-fd6b-23fdbf0829e8"
      },
      "execution_count": null,
      "outputs": [
        {
          "output_type": "execute_result",
          "data": {
            "text/plain": [
              "array([0.31694385, 0.4000171 , 0.349664  , 0.41078883, 0.47440952,\n",
              "       0.3823196 , 0.28795782, 0.80724937, 0.37706152, 0.57736546],\n",
              "      dtype=float32)"
            ]
          },
          "metadata": {},
          "execution_count": 68
        }
      ]
    },
    {
      "cell_type": "code",
      "source": [
        "np.argmax(y_pridicted[0]) #used numpy to find the max value\n",
        "\n",
        "\n"
      ],
      "metadata": {
        "colab": {
          "base_uri": "https://localhost:8080/"
        },
        "id": "gUHa2OqxEADa",
        "outputId": "eb0d10a6-6179-48b4-f1b1-7eec69cf0382"
      },
      "execution_count": null,
      "outputs": [
        {
          "output_type": "execute_result",
          "data": {
            "text/plain": [
              "7"
            ]
          },
          "metadata": {},
          "execution_count": 70
        }
      ]
    },
    {
      "cell_type": "code",
      "source": [
        "# for confusion matrix lets create a list of y_predictions using np.argmax\n",
        "y_pridicted_labels=[np.argmax(i) for i in y_pridicted]\n",
        "print(y_pridicted_labels)"
      ],
      "metadata": {
        "colab": {
          "base_uri": "https://localhost:8080/"
        },
        "id": "cnMxu7ZNGVrN",
        "outputId": "b38708d9-ead2-4e9d-8fa9-189f65b56771"
      },
      "execution_count": null,
      "outputs": [
        {
          "output_type": "stream",
          "name": "stdout",
          "text": [
            "[7, 2, 1, 0, 4, 1, 4, 9, 4, 7, 0, 6, 9, 0, 1, 3, 9, 7, 3, 4, 7, 6, 4, 5, 4, 0, 7, 4, 0, 1, 3, 1, 3, 0, 7, 2, 7, 1, 1, 1, 1, 7, 4, 1, 3, 3, 3, 2, 4, 4, 6, 3, 5, 3, 2, 0, 4, 1, 9, 1, 7, 8, 9, 2, 7, 9, 6, 4, 3, 0, 7, 0, 2, 8, 1, 7, 3, 7, 1, 7, 9, 6, 2, 7, 8, 4, 7, 3, 6, 1, 3, 6, 1, 3, 1, 4, 1, 7, 6, 9, 6, 0, 5, 4, 4, 9, 2, 1, 9, 4, 8, 1, 3, 9, 7, 9, 4, 4, 9, 7, 3, 6, 7, 6, 7, 9, 0, 5, 8, 5, 6, 6, 3, 7, 8, 1, 0, 1, 6, 4, 6, 7, 3, 1, 7, 1, 8, 2, 0, 1, 9, 4, 5, 3, 1, 5, 6, 0, 3, 1, 4, 6, 5, 4, 6, 3, 4, 1, 1, 9, 4, 7, 3, 3, 2, 1, 1, 8, 1, 8, 1, 8, 5, 0, 3, 9, 2, 3, 0, 1, 1, 1, 0, 4, 0, 1, 1, 6, 4, 2, 3, 6, 1, 1, 1, 3, 9, 3, 2, 9, 4, 7, 9, 1, 9, 0, 3, 5, 7, 5, 7, 2, 2, 7, 1, 2, 8, 4, 1, 7, 3, 1, 8, 7, 7, 9, 2, 2, 4, 1, 3, 3, 8, 7, 1, 6, 0, 6, 4, 1, 9, 1, 9, 5, 7, 7, 1, 1, 2, 0, 8, 1, 7, 7, 9, 1, 8, 1, 3, 0, 3, 0, 1, 9, 9, 4, 1, 8, 2, 1, 2, 9, 1, 7, 9, 2, 6, 4, 1, 3, 4, 2, 9, 2, 0, 9, 0, 0, 2, 8, 1, 7, 1, 2, 9, 0, 2, 9, 4, 3, 3, 0, 0, 3, 1, 9, 1, 1, 3, 3, 1, 1, 9, 3, 6, 7, 2, 0, 7, 1, 1, 1, 1, 8, 3, 3, 9, 7, 8, 6, 6, 4, 1, 3, 8, 1, 8, 5, 1, 7, 1, 5, 0, 6, 1, 8, 5, 1, 7, 9, 4, 6, 7, 1, 5, 0, 6, 3, 6, 3, 7, 2, 0, 8, 8, 5, 9, 1, 1, 4, 0, 7, 3, 7, 6, 1, 6, 2, 1, 7, 2, 8, 6, 1, 9, 5, 2, 3, 4, 4, 2, 8, 3, 9, 2, 4, 0, 0, 3, 1, 7, 1, 3, 7, 9, 7, 1, 9, 2, 1, 4, 2, 9, 2, 0, 4, 9, 1, 4, 8, 1, 8, 4, 4, 9, 7, 8, 3, 7, 6, 0, 0, 3, 1, 8, 0, 6, 4, 8, 3, 3, 3, 1, 3, 9, 1, 1, 5, 8, 0, 7, 6, 6, 6, 7, 8, 8, 2, 8, 5, 8, 9, 6, 1, 8, 4, 1, 2, 6, 3, 1, 9, 7, 1, 4, 0, 7, 9, 7, 1, 0, 5, 2, 3, 7, 6, 9, 1, 8, 1, 3, 4, 1, 2, 1, 3, 1, 5, 6, 3, 7, 1, 1, 2, 0, 1, 2, 6, 5, 9, 1, 9, 7, 1, 3, 0, 3, 0, 3, 1, 9, 1, 4, 4, 6, 4, 1, 1, 1, 2, 5, 4, 1, 3, 4, 0, 0, 2, 3, 2, 7, 1, 6, 6, 7, 4, 4, 7, 9, 6, 9, 0, 9, 8, 0, 9, 1, 0, 6, 3, 5, 9, 8, 3, 3, 9, 3, 3, 8, 7, 8, 0, 1, 2, 1, 7, 0, 6, 3, 4, 3, 3, 0, 7, 6, 3, 8, 0, 9, 9, 6, 1, 6, 8, 9, 1, 3, 6, 0, 2, 6, 0, 2, 1, 1, 1, 9, 7, 3, 6, 0, 8, 4, 6, 1, 6, 7, 9, 9, 6, 9, 8, 2, 2, 9, 1, 7, 3, 7, 9, 1, 8, 0, 2, 0, 6, 1, 1, 3, 7, 6, 7, 1, 2, 0, 8, 0, 3, 4, 9, 4, 6, 9, 1, 8, 6, 7, 1, 4, 3, 4, 4, 1, 9, 3, 1, 7, 3, 9, 7, 6, 9, 1, 3, 3, 8, 3, 3, 6, 7, 2, 4, 7, 8, 8, 1, 1, 4, 4, 3, 1, 0, 7, 7, 0, 7, 9, 9, 4, 8, 8, 5, 9, 0, 3, 2, 1, 6, 8, 4, 3, 0, 4, 0, 6, 1, 7, 3, 8, 6, 7, 2, 6, 9, 3, 1, 4, 6, 8, 3, 9, 1, 0, 6, 2, 1, 7, 3, 9, 1, 0, 3, 4, 3, 1, 1, 7, 4, 9, 9, 9, 8, 4, 0, 2, 4, 5, 1, 1, 6, 4, 7, 1, 9, 9, 2, 4, 1, 5, 5, 3, 3, 3, 1, 4, 3, 6, 8, 9, 4, 1, 4, 3, 8, 0, 1, 2, 1, 1, 2, 3, 3, 4, 4, 0, 8, 3, 3, 3, 1, 7, 3, 5, 9, 6, 3, 2, 6, 1, 3, 6, 0, 7, 2, 1, 7, 1, 7, 2, 4, 2, 1, 7, 9, 1, 1, 1, 1, 4, 3, 1, 7, 7, 4, 7, 0, 7, 3, 1, 3, 1, 0, 7, 7, 0, 3, 5, 1, 2, 7, 6, 6, 9, 2, 8, 3, 5, 2, 2, 5, 6, 0, 8, 2, 1, 2, 3, 2, 3, 8, 7, 9, 7, 3, 0, 6, 6, 3, 2, 1, 3, 2, 2, 9, 3, 0, 0, 5, 1, 3, 1, 4, 7, 6, 0, 2, 9, 1, 4, 7, 4, 7, 3, 9, 8, 1, 4, 7, 1, 1, 1, 2, 2, 3, 7, 3, 2, 3, 9, 1, 1, 4, 0, 3, 5, 7, 8, 6, 3, 0, 6, 7, 6, 1, 1, 2, 7, 9, 1, 1, 2, 7, 6, 4, 9, 6, 6, 3, 3, 9, 1, 8, 9, 1, 1, 0, 7, 1, 4, 4, 5, 4, 0, 6, 2, 3, 3, 1, 5, 1, 2, 0, 8, 8, 1, 2, 6, 7, 1, 6, 2, 3, 9, 0, 1, 2, 2, 0, 7, 9, 7, 0, 2, 3, 1, 9, 7, 1, 1, 0, 4, 1, 9, 9, 4, 1, 2, 6, 8, 1, 3, 7, 9, 4, 8, 1, 8, 1, 3, 8, 1, 2, 8, 8, 0, 6, 3, 1, 1, 1, 1, 5, 3, 4, 6, 9, 5, 0, 9, 2, 2, 4, 9, 2, 1, 7, 2, 4, 9, 4, 4, 0, 9, 9, 2, 2, 3, 3, 1, 3, 0, 7, 1, 7, 8, 1, 2, 9, 6, 6, 4, 9, 3, 1, 0, 6, 9, 5, 9, 6, 9, 1, 1, 8, 0, 3, 9, 1, 3, 6, 7, 2, 0, 9, 7, 9, 6, 3, 6, 3, 7, 4, 6, 5, 8, 9, 9, 1, 8, 8, 1, 6, 7, 6, 1, 7, 7, 3, 7, 1, 9, 5, 2, 7, 3, 1, 1, 1, 1, 1, 4, 7, 4, 7, 3, 4, 3, 4, 0, 8, 3, 1, 9, 6, 0, 2, 7, 9, 4, 8, 4, 6, 6, 4, 7, 9, 3, 4, 7, 9, 8, 7, 3, 7, 2, 7, 3, 2, 4, 1, 1, 1, 6, 9, 1, 8, 7, 2, 0, 1, 5, 0, 7, 1, 7, 0, 6, 6, 4, 6, 1, 1, 8, 0, 9, 3, 2, 2, 9, 1, 2, 1, 6, 1, 1, 3, 7, 1, 0, 3, 0, 9, 4, 0, 6, 8, 1, 2, 3, 8, 4, 0, 1, 6, 5, 3, 1, 1, 1, 3, 1, 7, 1, 6, 7, 2, 0, 0, 3, 8, 1, 6, 3, 4, 1, 9, 7, 1, 5, 8, 1, 0, 1, 4, 4, 3, 6, 3, 8, 2, 9, 0, 4, 6, 4, 4, 7, 9, 3, 4, 1, 5, 9, 1, 3, 5, 8, 8, 6, 9, 3, 3, 6, 6, 0, 1, 6, 0, 3, 7, 4, 4, 1, 2, 9, 1, 4, 6, 4, 9, 7, 9, 8, 4, 4, 3, 1, 3, 1, 3, 1, 7, 9, 4, 8, 4, 1, 9, 7, 1, 4, 3, 6, 0, 3, 2, 2, 6, 1, 3, 8, 2, 4, 9, 1, 6, 7, 7, 2, 2, 1, 1, 0, 8, 3, 7, 1, 4, 1, 7, 1, 7, 6, 7, 1, 2, 7, 3, 1, 7, 5, 8, 2, 6, 2, 8, 8, 6, 1, 0, 9, 2, 4, 3, 1, 9, 7, 6, 6, 8, 0, 4, 1, 3, 3, 2, 9, 1, 3, 0, 6, 7, 7, 1, 8, 5, 8, 2, 0, 1, 6, 0, 1, 9, 9, 8, 0, 9, 9, 4, 6, 4, 4, 7, 1, 8, 3, 4, 9, 4, 1, 3, 3, 1, 1, 9, 1, 4, 0, 1, 1, 8, 3, 8, 4, 0, 3, 5, 1, 9, 6, 2, 9, 9, 0, 9, 6, 0, 6, 2, 5, 4, 0, 3, 3, 1, 3, 9, 0, 1, 8, 5, 1, 7, 1, 6, 3, 7, 1, 3, 3, 9, 6, 1, 1, 2, 9, 0, 4, 3, 3, 6, 9, 5, 7, 1, 7, 7, 7, 3, 1, 9, 1, 3, 0, 1, 2, 7, 9, 4, 5, 4, 9, 3, 8, 1, 4, 0, 2, 3, 7, 3, 9, 6, 8, 0, 0, 6, 1, 4, 7, 3, 9, 0, 6, 0, 6, 6, 2, 3, 7, 8, 4, 7, 7, 4, 2, 4, 1, 6, 5, 2, 4, 8, 7, 1, 8, 4, 0, 7, 8, 4, 3, 7, 7, 0, 7, 8, 8, 4, 0, 9, 8, 8, 2, 4, 7, 6, 6, 6, 4, 9, 1, 1, 8, 2, 3, 6, 3, 0, 0, 3, 7, 6, 9, 7, 9, 9, 5, 4, 3, 7, 6, 1, 3, 3, 7, 3, 3, 6, 0, 3, 3, 8, 4, 3, 0, 3, 7, 0, 2, 0, 9, 0, 7, 4, 6, 4, 3, 5, 1, 9, 6, 1, 7, 1, 4, 3, 0, 5, 4, 0, 2, 1, 1, 9, 1, 9, 7, 4, 0, 8, 4, 5, 2, 4, 2, 1, 1, 1, 1, 3, 6, 8, 3, 4, 9, 1, 9, 8, 5, 7, 7, 1, 1, 8, 6, 5, 7, 4, 4, 7, 2, 3, 1, 6, 3, 1, 1, 2, 3, 1, 0, 5, 1, 7, 1, 9, 6, 7, 0, 4, 8, 7, 1, 7, 4, 1, 0, 1, 7, 2, 0, 0, 9, 1, 1, 0, 4, 8, 4, 7, 4, 0, 4, 1, 0, 7, 1, 1, 3, 3, 9, 6, 7, 9, 1, 2, 3, 0, 8, 1, 3, 9, 6, 9, 3, 8, 0, 2, 7, 4, 3, 1, 2, 3, 8, 0, 8, 6, 1, 9, 0, 1, 0, 3, 1, 4, 0, 3, 7, 2, 4, 1, 5, 0, 7, 0, 4, 3, 1, 9, 4, 7, 7, 1, 4, 9, 9, 3, 7, 1, 7, 4, 0, 2, 0, 3, 3, 7, 6, 0, 2, 3, 3, 7, 7, 0, 0, 7, 3, 2, 9, 0, 7, 4, 4, 2, 6, 6, 1, 9, 6, 1, 2, 9, 0, 8, 3, 1, 1, 6, 3, 5, 1, 1, 1, 3, 1, 3, 3, 0, 8, 2, 1, 3, 5, 0, 7, 4, 7, 9, 6, 9, 6, 1, 3, 6, 6, 8, 3, 1, 4, 2, 4, 1, 3, 1, 1, 9, 0, 2, 4, 9, 4, 7, 1, 1, 3, 5, 6, 9, 3, 7, 1, 1, 1, 7, 1, 3, 2, 2, 0, 3, 9, 2, 3, 1, 0, 3, 8, 4, 3, 7, 9, 6, 9, 0, 1, 1, 3, 5, 8, 3, 8, 2, 6, 8, 0, 7, 4, 6, 1, 3, 4, 7, 3, 1, 3, 4, 2, 3, 2, 7, 1, 7, 2, 6, 6, 1, 5, 7, 1, 1, 0, 1, 8, 2, 4, 7, 7, 6, 1, 3, 4, 2, 4, 2, 4, 0, 8, 1, 3, 4, 9, 1, 7, 5, 1, 6, 3, 6, 0, 3, 6, 7, 3, 6, 4, 9, 4, 6, 5, 3, 0, 4, 1, 0, 1, 9, 6, 2, 9, 1, 1, 0, 6, 3, 9, 5, 6, 9, 6, 5, 9, 4, 6, 4, 3, 0, 1, 1, 4, 1, 9, 1, 2, 1, 1, 9, 3, 7, 4, 0, 9, 3, 6, 1, 7, 5, 5, 3, 3, 0, 1, 3, 7, 3, 1, 6, 4, 1, 0, 1, 7, 3, 4, 0, 7, 9, 8, 1, 4, 9, 7, 2, 8, 0, 8, 7, 0, 0, 6, 1, 9, 8, 6, 0, 4, 3, 9, 1, 3, 0, 4, 3, 3, 5, 5, 6, 7, 0, 1, 3, 4, 2, 3, 0, 9, 9, 1, 7, 2, 1, 9, 7, 0, 6, 0, 4, 3, 2, 8, 5, 7, 3, 0, 0, 2, 7, 8, 8, 2, 3, 3, 0, 6, 4, 0, 8, 4, 1, 2, 7, 4, 9, 2, 0, 3, 2, 9, 1, 7, 2, 4, 1, 1, 1, 8, 3, 6, 7, 8, 7, 6, 4, 8, 9, 4, 7, 6, 3, 3, 3, 1, 0, 6, 2, 2, 7, 6, 9, 3, 8, 1, 4, 1, 7, 3, 4, 6, 1, 8, 4, 3, 1, 2, 3, 0, 8, 3, 9, 3, 6, 2, 5, 0, 7, 0, 1, 0, 2, 3, 7, 6, 7, 9, 1, 2, 1, 2, 4, 1, 8, 0, 4, 4, 5, 3, 0, 6, 8, 9, 8, 3, 0, 9, 0, 9, 8, 7, 1, 3, 4, 6, 8, 0, 9, 1, 3, 3, 6, 9, 4, 7, 1, 0, 0, 7, 1, 7, 1, 2, 7, 9, 1, 1, 5, 2, 4, 9, 4, 7, 2, 2, 3, 4, 9, 1, 9, 2, 1, 7, 4, 4, 4, 6, 6, 7, 1, 7, 8, 0, 1, 9, 7, 1, 1, 7, 3, 3, 3, 3, 1, 3, 7, 6, 1, 3, 8, 7, 3, 9, 0, 0, 0, 1, 1, 8, 7, 3, 7, 1, 3, 0, 1, 4, 4, 3, 1, 9, 2, 3, 9, 7, 1, 1, 7, 0, 4, 9, 6, 3, 9, 1, 1, 0, 2, 0, 0, 4, 6, 7, 0, 7, 1, 4, 6, 4, 7, 4, 4, 4, 1, 7, 9, 5, 3, 1, 8, 2, 0, 6, 2, 2, 1, 1, 1, 1, 1, 6, 9, 1, 4, 3, 7, 1, 6, 4, 4, 0, 4, 7, 4, 1, 4, 0, 7, 0, 1, 0, 7, 8, 6, 0, 0, 7, 1, 6, 8, 2, 2, 3, 3, 4, 3, 0, 8, 1, 7, 3, 4, 4, 0, 6, 3, 1, 7, 3, 1, 0, 1, 1, 3, 1, 2, 1, 0, 1, 8, 9, 1, 4, 8, 3, 3, 9, 3, 6, 1, 1, 3, 1, 1, 1, 0, 4, 1, 7, 2, 4, 3, 7, 9, 1, 9, 2, 9, 9, 8, 3, 8, 3, 1, 6, 0, 7, 7, 6, 2, 9, 0, 0, 7, 4, 6, 6, 8, 6, 6, 8, 6, 9, 1, 7, 8, 0, 9, 9, 0, 7, 2, 7, 6, 7, 0, 6, 5, 6, 4, 7, 2, 0, 9, 9, 2, 2, 9, 4, 4, 1, 3, 3, 2, 1, 7, 0, 1, 6, 4, 1, 3, 8, 1, 4, 6, 4, 2, 5, 1, 1, 7, 3, 7, 1, 3, 3, 0, 9, 1, 4, 0, 1, 3, 3, 0, 0, 4, 9, 7, 0, 1, 0, 8, 9, 3, 5, 7, 9, 3, 8, 3, 8, 1, 5, 3, 4, 0, 5, 3, 6, 8, 6, 7, 1, 7, 3, 7, 0, 3, 9, 3, 2, 1, 7, 3, 1, 7, 1, 8, 6, 5, 7, 3, 8, 9, 3, 3, 7, 0, 1, 7, 0, 0, 3, 7, 2, 3, 1, 1, 8, 6, 2, 9, 3, 7, 5, 1, 1, 6, 8, 1, 1, 4, 8, 4, 3, 1, 3, 0, 6, 2, 7, 3, 3, 2, 1, 0, 7, 3, 4, 6, 3, 9, 3, 6, 3, 4, 0, 3, 8, 0, 7, 6, 5, 4, 7, 3, 0, 0, 1, 6, 2, 5, 1, 1, 0, 0, 8, 1, 0, 1, 2, 3, 2, 1, 7, 8, 0, 2, 3, 7, 6, 9, 1, 4, 1, 6, 4, 2, 4, 1, 5, 4, 7, 9, 5, 0, 1, 1, 3, 1, 9, 1, 9, 4, 9, 9, 7, 1, 7, 4, 6, 0, 1, 1, 1, 0, 4, 4, 7, 6, 3, 8, 0, 9, 3, 0, 6, 1, 9, 6, 1, 3, 8, 1, 2, 3, 0, 2, 1, 3, 6, 0, 1, 9, 7, 6, 6, 8, 7, 2, 9, 1, 8, 3, 1, 0, 0, 7, 8, 6, 2, 1, 6, 9, 3, 1, 3, 6, 1, 0, 6, 0, 0, 0, 6, 3, 5, 9, 6, 1, 1, 5, 8, 5, 3, 0, 4, 0, 3, 9, 6, 1, 2, 3, 1, 2, 1, 1, 8, 6, 9, 1, 0, 6, 6, 5, 5, 3, 8, 6, 0, 1, 4, 4, 4, 3, 7, 8, 0, 0, 9, 3, 5, 1, 1, 0, 4, 4, 4, 0, 1, 7, 0, 1, 6, 1, 4, 3, 6, 6, 3, 7, 3, 4, 4, 7, 2, 5, 3, 7, 0, 7, 7, 9, 6, 4, 2, 8, 3, 9, 1, 3, 7, 1, 8, 9, 9, 8, 6, 1, 1, 9, 2, 3, 6, 1, 1, 8, 9, 3, 4, 0, 7, 9, 6, 4, 1, 4, 1, 3, 4, 9, 3, 1, 9, 7, 1, 4, 7, 2, 9, 3, 0, 8, 0, 8, 9, 0, 4, 1, 1, 3, 2, 3, 3, 4, 9, 5, 2, 1, 1, 3, 9, 7, 9, 4, 2, 4, 6, 3, 5, 9, 3, 1, 9, 2, 1, 4, 1, 3, 0, 6, 9, 8, 4, 0, 6, 9, 2, 9, 0, 1, 0, 7, 1, 6, 5, 1, 1, 5, 3, 5, 0, 3, 3, 1, 9, 2, 8, 7, 0, 4, 9, 1, 9, 7, 7, 1, 7, 2, 0, 9, 1, 8, 6, 3, 3, 7, 6, 2, 1, 9, 1, 3, 5, 5, 0, 1, 7, 3, 3, 7, 6, 6, 0, 1, 9, 0, 6, 9, 1, 1, 2, 1, 9, 5, 9, 7, 3, 7, 8, 0, 1, 3, 0, 4, 6, 1, 0, 2, 5, 8, 4, 4, 1, 1, 5, 9, 1, 6, 0, 4, 9, 2, 6, 2, 7, 1, 7, 9, 4, 0, 0, 3, 3, 2, 2, 1, 1, 6, 0, 5, 7, 7, 9, 2, 6, 7, 1, 7, 1, 6, 8, 1, 4, 6, 8, 4, 1, 2, 8, 2, 3, 9, 4, 0, 1, 7, 3, 2, 3, 3, 7, 3, 7, 0, 6, 1, 0, 8, 1, 3, 3, 8, 4, 1, 7, 1, 3, 7, 1, 7, 3, 2, 3, 7, 3, 1, 3, 7, 3, 5, 6, 1, 2, 7, 6, 5, 3, 6, 7, 9, 1, 7, 1, 5, 2, 3, 6, 3, 1, 9, 2, 6, 1, 4, 3, 8, 0, 6, 2, 1, 6, 9, 1, 9, 1, 9, 3, 1, 1, 3, 4, 4, 6, 3, 8, 6, 9, 7, 7, 8, 6, 9, 1, 1, 9, 4, 0, 3, 4, 6, 4, 1, 7, 3, 0, 0, 2, 6, 6, 8, 7, 0, 8, 6, 4, 7, 9, 0, 7, 2, 4, 2, 1, 8, 8, 5, 9, 2, 7, 1, 8, 3, 3, 1, 7, 6, 0, 1, 2, 1, 1, 0, 1, 3, 5, 6, 5, 3, 4, 2, 8, 1, 0, 1, 4, 2, 1, 1, 4, 9, 4, 4, 7, 1, 6, 2, 3, 9, 0, 0, 1, 1, 3, 4, 3, 4, 2, 0, 1, 1, 5, 1, 2, 2, 2, 1, 2, 3, 1, 8, 1, 0, 0, 2, 1, 0, 6, 0, 1, 6, 2, 3, 1, 7, 4, 8, 7, 1, 4, 3, 7, 1, 9, 4, 4, 7, 3, 4, 7, 2, 7, 0, 7, 0, 4, 3, 3, 2, 6, 7, 1, 6, 0, 6, 7, 7, 0, 4, 3, 8, 1, 0, 4, 0, 2, 7, 1, 5, 0, 3, 3, 0, 3, 2, 7, 1, 3, 6, 4, 9, 9, 1, 7, 2, 4, 1, 8, 4, 6, 8, 1, 3, 0, 0, 8, 7, 6, 1, 7, 1, 1, 2, 7, 4, 0, 0, 7, 7, 6, 3, 8, 1, 4, 2, 0, 1, 4, 0, 3, 7, 8, 2, 9, 6, 7, 1, 1, 1, 6, 6, 6, 4, 1, 9, 9, 8, 3, 6, 9, 5, 2, 6, 2, 4, 1, 7, 7, 0, 6, 6, 4, 1, 8, 3, 3, 3, 4, 9, 0, 0, 3, 2, 0, 0, 7, 1, 1, 1, 6, 7, 6, 7, 9, 6, 6, 9, 1, 4, 3, 1, 1, 2, 7, 9, 1, 0, 8, 7, 6, 3, 4, 0, 0, 4, 3, 3, 8, 7, 1, 1, 1, 1, 3, 1, 0, 4, 4, 7, 5, 4, 1, 4, 8, 9, 4, 3, 5, 1, 9, 8, 1, 7, 1, 9, 9, 0, 1, 0, 2, 4, 3, 9, 3, 3, 6, 2, 9, 9, 8, 3, 1, 4, 0, 4, 7, 8, 4, 9, 8, 1, 9, 7, 6, 9, 2, 8, 3, 7, 0, 2, 2, 3, 1, 4, 6, 3, 4, 3, 2, 4, 6, 2, 9, 3, 3, 9, 4, 3, 1, 4, 4, 7, 0, 8, 9, 6, 0, 4, 4, 6, 4, 6, 1, 2, 3, 2, 6, 4, 1, 9, 6, 8, 4, 1, 0, 8, 6, 4, 1, 8, 1, 3, 2, 1, 4, 3, 5, 4, 7, 4, 0, 7, 8, 1, 7, 3, 1, 0, 1, 3, 0, 7, 1, 9, 8, 7, 5, 3, 9, 1, 7, 5, 4, 3, 8, 1, 1, 1, 6, 6, 6, 1, 1, 4, 0, 7, 4, 2, 4, 0, 4, 4, 7, 1, 7, 5, 3, 4, 6, 7, 0, 1, 3, 8, 2, 3, 3, 5, 7, 8, 0, 8, 9, 7, 1, 1, 0, 1, 3, 7, 1, 7, 6, 7, 1, 1, 0, 1, 1, 4, 1, 1, 7, 6, 2, 3, 0, 2, 0, 7, 4, 6, 9, 7, 2, 1, 3, 6, 4, 1, 8, 2, 4, 0, 3, 1, 0, 3, 2, 6, 4, 4, 1, 9, 1, 1, 6, 3, 7, 9, 2, 0, 1, 6, 0, 1, 4, 3, 3, 1, 8, 8, 0, 8, 8, 9, 0, 9, 6, 1, 6, 3, 3, 3, 7, 7, 7, 7, 4, 9, 0, 6, 1, 0, 4, 2, 9, 2, 1, 1, 0, 0, 1, 8, 3, 1, 3, 1, 3, 7, 6, 1, 3, 1, 1, 4, 5, 1, 4, 7, 5, 9, 3, 2, 9, 9, 9, 1, 1, 4, 0, 1, 3, 2, 0, 7, 4, 8, 8, 2, 0, 2, 8, 1, 2, 1, 6, 8, 3, 9, 1, 1, 1, 3, 5, 1, 0, 9, 4, 4, 3, 3, 1, 5, 9, 7, 1, 0, 2, 0, 0, 0, 4, 8, 8, 1, 3, 3, 3, 8, 5, 1, 8, 2, 0, 4, 0, 4, 6, 2, 3, 3, 1, 6, 4, 8, 0, 9, 2, 8, 3, 2, 4, 5, 1, 8, 9, 4, 9, 1, 2, 8, 2, 0, 3, 0, 4, 1, 1, 0, 7, 8, 9, 9, 1, 4, 5, 9, 3, 5, 0, 4, 1, 0, 8, 4, 0, 8, 9, 8, 9, 4, 1, 5, 7, 4, 8, 9, 8, 0, 2, 4, 6, 8, 9, 9, 5, 9, 8, 6, 1, 0, 3, 3, 5, 2, 1, 6, 3, 0, 2, 8, 3, 5, 6, 2, 3, 0, 2, 2, 6, 4, 3, 3, 7, 1, 7, 2, 1, 6, 9, 1, 3, 9, 3, 3, 1, 6, 2, 2, 8, 6, 7, 1, 9, 6, 0, 6, 0, 3, 3, 2, 1, 3, 6, 3, 9, 7, 3, 3, 9, 7, 4, 5, 2, 0, 5, 6, 4, 2, 8, 3, 4, 9, 3, 7, 9, 4, 6, 7, 1, 3, 1, 3, 6, 6, 0, 9, 0, 1, 1, 9, 1, 8, 8, 5, 1, 6, 9, 7, 7, 3, 4, 7, 6, 9, 4, 4, 3, 6, 3, 1, 1, 7, 6, 9, 1, 3, 4, 1, 1, 9, 7, 9, 3, 6, 8, 1, 6, 0, 4, 1, 3, 7, 7, 4, 9, 3, 1, 0, 0, 1, 1, 1, 1, 1, 9, 8, 4, 0, 3, 6, 4, 9, 0, 7, 1, 6, 3, 7, 3, 2, 7, 1, 8, 5, 4, 7, 0, 5, 7, 6, 2, 5, 3, 1, 0, 4, 1, 7, 1, 0, 9, 1, 2, 0, 0, 6, 0, 7, 3, 1, 4, 3, 9, 7, 0, 0, 8, 4, 1, 9, 8, 3, 2, 7, 2, 9, 7, 2, 1, 1, 3, 7, 7, 3, 1, 2, 8, 2, 2, 2, 3, 8, 5, 7, 3, 8, 9, 8, 3, 6, 1, 2, 3, 9, 7, 1, 6, 2, 9, 1, 8, 8, 1, 6, 2, 9, 7, 9, 1, 3, 6, 1, 7, 2, 0, 7, 1, 1, 4, 0, 8, 0, 9, 3, 6, 2, 3, 0, 3, 3, 0, 2, 1, 1, 1, 1, 4, 2, 9, 7, 7, 4, 1, 1, 3, 1, 9, 9, 9, 1, 0, 1, 0, 2, 1, 1, 4, 6, 9, 1, 3, 4, 9, 7, 7, 1, 5, 6, 2, 6, 2, 8, 0, 6, 9, 5, 3, 9, 7, 7, 1, 4, 8, 5, 3, 9, 3, 4, 7, 7, 5, 0, 7, 4, 8, 1, 1, 5, 3, 9, 5, 9, 7, 5, 9, 0, 3, 6, 3, 9, 8, 2, 1, 1, 2, 8, 6, 8, 1, 0, 0, 9, 4, 9, 3, 4, 1, 3, 1, 1, 9, 1, 4, 4, 3, 3, 9, 1, 2, 2, 3, 3, 0, 2, 9, 6, 0, 9, 3, 6, 0, 4, 3, 7, 8, 4, 1, 4, 0, 7, 2, 1, 4, 9, 1, 9, 1, 1, 1, 8, 7, 5, 1, 9, 5, 3, 1, 1, 7, 4, 7, 7, 1, 9, 0, 9, 7, 1, 9, 7, 2, 0, 1, 0, 3, 1, 4, 9, 3, 1, 6, 1, 3, 1, 3, 3, 2, 0, 4, 2, 6, 6, 0, 1, 2, 0, 3, 0, 2, 9, 1, 7, 7, 7, 3, 6, 8, 9, 8, 0, 3, 2, 3, 1, 6, 8, 8, 4, 6, 8, 8, 4, 5, 4, 5, 3, 9, 9, 2, 3, 1, 2, 6, 1, 8, 9, 0, 3, 6, 2, 4, 3, 8, 8, 7, 2, 2, 0, 0, 9, 3, 7, 4, 1, 9, 8, 6, 1, 4, 0, 6, 9, 2, 8, 3, 4, 3, 1, 9, 9, 1, 1, 1, 8, 3, 4, 0, 6, 3, 7, 9, 3, 1, 4, 3, 6, 2, 1, 9, 2, 6, 0, 0, 6, 1, 1, 8, 7, 1, 0, 3, 0, 4, 7, 7, 7, 0, 5, 6, 4, 6, 7, 4, 3, 0, 7, 5, 0, 7, 4, 2, 3, 3, 9, 9, 4, 2, 1, 6, 7, 8, 7, 6, 9, 4, 1, 3, 7, 3, 0, 1, 7, 6, 6, 1, 3, 9, 2, 2, 4, 2, 1, 8, 1, 2, 4, 6, 8, 4, 0, 1, 2, 8, 4, 5, 7, 7, 1, 1, 1, 3, 0, 3, 5, 7, 0, 3, 1, 9, 3, 6, 3, 1, 7, 8, 8, 0, 8, 4, 8, 2, 6, 0, 2, 9, 7, 3, 9, 0, 9, 9, 6, 4, 2, 4, 7, 2, 1, 1, 6, 7, 9, 7, 3, 9, 2, 8, 2, 1, 2, 4, 1, 9, 6, 1, 3, 2, 1, 4, 9, 3, 6, 1, 1, 4, 6, 4, 7, 2, 1, 5, 1, 4, 6, 3, 4, 1, 1, 0, 3, 1, 6, 8, 4, 9, 0, 7, 1, 0, 4, 9, 0, 6, 6, 6, 3, 6, 7, 7, 1, 8, 6, 0, 8, 1, 0, 2, 9, 1, 3, 2, 5, 3, 9, 8, 0, 0, 1, 9, 5, 1, 3, 9, 6, 0, 1, 4, 1, 7, 1, 4, 3, 1, 9, 7, 4, 9, 9, 3, 9, 2, 8, 2, 7, 1, 3, 0, 9, 1, 0, 1, 7, 7, 4, 6, 4, 9, 9, 2, 1, 0, 1, 3, 5, 7, 1, 9, 7, 6, 9, 3, 7, 6, 1, 9, 9, 6, 3, 6, 2, 9, 8, 1, 2, 2, 5, 7, 2, 3, 7, 2, 1, 0, 1, 0, 4, 1, 2, 0, 2, 1, 3, 5, 1, 7, 7, 1, 1, 2, 9, 7, 8, 6, 0, 3, 0, 7, 6, 8, 9, 7, 7, 7, 5, 8, 6, 9, 1, 1, 1, 8, 0, 3, 1, 7, 1, 3, 6, 1, 6, 5, 7, 4, 9, 3, 5, 9, 7, 1, 2, 0, 1, 1, 6, 0, 7, 3, 9, 7, 8, 9, 6, 0, 8, 6, 4, 8, 7, 7, 9, 1, 8, 6, 9, 7, 2, 3, 4, 0, 2, 1, 3, 3, 5, 7, 7, 1, 4, 0, 7, 6, 8, 3, 0, 8, 7, 8, 6, 0, 9, 4, 9, 3, 3, 5, 6, 6, 3, 0, 9, 3, 1, 5, 8, 9, 3, 4, 9, 0, 8, 9, 1, 2, 1, 8, 6, 3, 1, 3, 7, 9, 3, 1, 1, 4, 7, 0, 9, 1, 7, 4, 5, 7, 1, 2, 1, 1, 3, 0, 6, 6, 1, 2, 6, 0, 7, 6, 6, 9, 3, 1, 0, 4, 2, 6, 0, 5, 9, 3, 8, 4, 6, 1, 2, 1, 9, 5, 1, 3, 2, 4, 3, 6, 1, 9, 4, 4, 7, 6, 8, 4, 1, 9, 9, 2, 1, 3, 0, 1, 3, 6, 1, 1, 1, 1, 1, 1, 5, 6, 0, 7, 0, 7, 3, 3, 2, 3, 7, 2, 9, 4, 9, 1, 1, 3, 1, 5, 1, 8, 7, 4, 0, 0, 0, 8, 2, 2, 7, 1, 2, 1, 4, 7, 2, 7, 3, 1, 3, 4, 9, 4, 1, 7, 3, 6, 3, 8, 3, 1, 6, 8, 6, 9, 9, 1, 7, 0, 7, 7, 1, 3, 2, 9, 0, 3, 4, 9, 8, 4, 1, 0, 6, 0, 9, 6, 1, 6, 1, 1, 9, 8, 9, 2, 3, 5, 5, 9, 4, 2, 1, 9, 4, 3, 9, 6, 0, 4, 0, 6, 0, 1, 2, 2, 4, 7, 8, 9, 0, 1, 2, 2, 4, 7, 8, 9, 0, 1, 2, 3, 4, 1, 6, 7, 8, 9, 8, 1, 1, 7, 1, 6, 2, 1, 0, 9, 7, 1, 9, 3, 1, 4, 7, 2, 0, 9, 1, 4, 1, 7, 6, 2, 0, 6, 2, 1, 1, 1, 1, 7, 2, 4, 7, 5, 2, 4, 4, 5, 8, 4, 2, 9, 7, 0, 0, 7, 1, 1, 1, 7, 6, 6, 6, 8, 2, 2, 7, 7, 4, 0, 2, 4, 2, 1, 8, 9, 6, 1, 0, 1, 4, 6, 9, 8, 0, 2, 0, 8, 2, 9, 6, 8, 0, 1, 2, 3, 4, 5, 6, 7, 0, 1, 3, 3, 9, 5, 6, 7, 8, 9, 0, 1, 2, 3, 4, 5, 6, 7, 6, 5, 9, 4, 7, 4, 7, 7, 3, 9, 4, 8, 3, 1, 5, 8, 2, 7, 4, 1, 1, 5, 4, 5, 5, 8, 6, 4, 4, 4, 1, 8, 7, 5, 5, 1, 6, 9, 1, 8, 6, 3, 3, 2, 8, 6, 9, 9, 6, 5, 5, 3, 3, 8, 1, 6, 5, 6, 8, 1, 9, 7, 6, 8, 3, 7, 4, 7, 0, 7, 0, 0, 1, 1, 9, 3, 0, 2, 0, 1, 0, 1, 0, 4, 0, 1, 0, 4, 7, 7, 6, 2, 6, 2, 2, 7, 7, 0, 1, 2, 3, 4, 5, 6, 7, 7, 9, 0, 1, 2, 3, 4, 5, 6, 7, 8, 9, 0, 1, 2, 3, 4, 5, 6, 7, 8, 7, 8, 0, 3, 6, 6, 0, 8, 0, 2, 3, 7, 7, 4, 7, 1, 9, 1, 7, 1, 4, 0, 0, 4, 1, 7, 5, 7, 1, 3, 3, 3, 1, 6, 9, 7, 4, 3, 0, 2, 3, 2, 6, 0, 8, 9, 4, 3, 5, 4, 8, 1, 5, 9, 0, 6, 4, 3, 6, 3, 3, 8, 1, 4, 7, 3, 7, 2, 2, 0, 0, 1, 7, 7, 9, 5, 9, 8, 9, 6, 8, 9, 2, 3, 6, 1, 2, 9, 1, 9, 3, 2, 6, 2, 4, 8, 4, 6, 3, 0, 1, 5, 6, 7, 8, 9, 0, 1, 2, 3, 4, 5, 6, 7, 1, 9, 0, 1, 2, 3, 4, 5, 6, 7, 8, 9, 7, 4, 2, 0, 7, 0, 1, 5, 8, 1, 0, 2, 7, 8, 4, 4, 6, 1, 0, 4, 5, 3, 9, 4, 2, 0, 5, 0, 1, 3, 2, 9, 1, 6, 0, 1, 1, 8, 0, 4, 7, 7, 6, 3, 6, 0, 7, 3, 5, 4, 2, 4, 1, 8, 3, 5, 6, 7, 0, 6, 7, 1, 2, 5, 8, 1, 9, 3, 8, 2, 8, 7, 6, 7, 1, 4, 6, 2, 9, 3, 0, 1, 1, 3, 4, 3, 6, 7, 0, 1, 2, 3, 4, 3, 0, 1, 2, 3, 9, 1, 6, 0, 9, 3, 0, 3, 0, 7, 7, 1, 1, 1, 9, 3, 6, 7, 2, 3, 8, 1, 2, 9, 3, 3, 7, 1, 7, 1, 1, 0, 3, 6, 2, 6, 9, 7, 4, 8, 7, 6, 9, 1, 0, 6, 0, 0, 3, 0, 3, 3, 9, 7, 6, 8, 5, 9, 6, 9, 3, 0, 3, 8, 9, 1, 8, 1, 6, 0, 0, 1, 2, 3, 9, 5, 6, 7, 8, 9, 0, 1, 2, 3, 9, 1, 6, 7, 1, 9, 0, 1, 2, 3, 1, 5, 6, 9, 8, 9, 3, 5, 3, 2, 9, 3, 2, 1, 1, 5, 5, 3, 3, 2, 1, 3, 3, 7, 2, 1, 2, 8, 9, 1, 8, 8, 9, 8, 1, 0, 0, 7, 7, 8, 7, 5, 0, 6, 1, 3, 7, 1, 6, 1, 2, 5, 0, 7, 9, 9, 0, 3, 8, 4, 1, 1, 1, 8, 6, 5, 9, 0, 0, 0, 3, 9, 1, 6, 1, 2, 6, 6, 0, 4, 5, 6, 1, 3, 8, 6, 3, 9, 9, 5, 9, 3, 7, 1, 5, 6, 4, 9, 6, 2, 8, 0, 9, 1, 0, 1, 2, 3, 4, 3, 6, 7, 1, 9, 0, 1, 2, 7, 1, 6, 0, 1, 2, 3, 4, 5, 6, 8, 1, 1, 3, 2, 6, 0, 7, 6, 9, 9, 6, 0, 7, 4, 1, 3, 2, 1, 2, 3, 8, 3, 2, 6, 5, 6, 6, 2, 7, 4, 8, 1, 8, 0, 3, 2, 9, 4, 1, 9, 2, 1, 9, 6, 7, 9, 0, 4, 6, 1, 7, 3, 8, 7, 2, 4, 0, 3, 8, 3, 9, 0, 5, 7, 1, 6, 1, 0, 9, 6, 3, 4, 4, 0, 6, 2, 3, 4, 2, 9, 4, 6, 0, 0, 2, 0, 1, 4, 3, 6, 9, 8, 9, 0, 1, 2, 6, 4, 0, 6, 7, 8, 0, 1, 2, 3, 6, 3, 6, 7, 8, 9, 8, 7, 1, 3, 7, 3, 2, 8, 0, 9, 3, 9, 9, 0, 9, 1, 1, 3, 8, 8, 6, 3, 2, 1, 8, 3, 2, 6, 3, 6, 0, 0, 1, 3, 6, 3, 1, 9, 2, 1, 9, 6, 0, 4, 6, 1, 7, 3, 8, 7, 2, 9, 6, 3, 8, 0, 3, 7, 1, 6, 1, 0, 9, 6, 1, 3, 9, 2, 3, 9, 4, 6, 0, 0, 2, 0, 1, 2, 3, 9, 3, 6, 7, 8, 9, 0, 1, 2, 3, 9, 3, 6, 7, 3, 9, 0, 1, 2, 8, 4, 3, 6, 7, 8, 9, 8, 6, 3, 0, 6, 8, 9, 4, 1, 9, 3, 3, 6, 9, 8, 9, 1, 4, 0, 3, 3, 2, 1, 3, 4, 0, 7, 6, 0, 1, 7, 0, 6, 8, 9, 3, 1, 7, 9, 8, 6, 0, 9, 1, 7, 7, 1, 3, 2, 3, 1, 4, 2, 0, 0, 7, 8, 9, 6, 9, 9, 3, 3, 4, 7, 6, 3, 6, 3, 6, 9, 6, 3, 6, 2, 9, 6, 9, 0, 2, 3, 3, 1, 3, 3, 9, 7, 3, 7, 2, 2, 3, 7, 9, 3, 2, 1, 3, 1, 3, 0, 1, 2, 8, 4, 5, 6, 7, 8, 8, 0, 1, 2, 3, 4, 5, 6, 7, 0, 0, 0, 1, 2, 3, 4, 8, 6, 7, 8, 0, 1, 8, 6, 5, 3, 0, 7, 0, 4, 1, 4, 3, 6, 7, 2, 3, 1, 6, 1, 8, 0, 6, 0, 1, 3, 0, 2, 7, 5, 7, 6, 2, 0, 1, 0, 0, 6, 0, 6, 0, 2, 0, 6, 1, 8, 8, 4, 3, 0, 1, 5, 4, 4, 8, 5, 7, 5, 7, 8, 3, 4, 8, 8, 5, 2, 0, 7, 1, 8, 0, 1, 0, 7, 8, 0, 6, 8, 4, 7, 7, 0, 0, 3, 4, 4, 3, 8, 6, 2, 0, 1, 2, 8, 4, 5, 6, 7, 8, 9, 0, 1, 2, 3, 4, 5, 6, 7, 8, 9, 0, 1, 2, 3, 4, 5, 6, 7, 8, 9, 0, 8, 3, 9, 5, 5, 2, 6, 8, 4, 9, 1, 7, 1, 2, 3, 5, 9, 6, 9, 1, 1, 1, 2, 9, 5, 6, 8, 1, 2, 0, 7, 7, 5, 8, 2, 9, 8, 9, 0, 4, 6, 7, 1, 3, 4, 5, 6, 0, 3, 6, 8, 7, 0, 4, 2, 7, 4, 7, 5, 4, 3, 4, 2, 8, 1, 5, 1, 2, 0, 2, 5, 6, 4, 3, 0, 0, 0, 3, 3, 5, 7, 0, 6, 4, 8, 8, 6, 3, 4, 6, 9, 9, 8, 2, 7, 7, 1, 0, 1, 2, 9, 4, 5, 6, 7, 8, 9, 0, 1, 2, 3, 4, 6, 6, 7, 8, 0, 1, 2, 3, 4, 5, 6, 7, 8, 2, 1, 7, 2, 5, 0, 8, 0, 2, 7, 6, 8, 3, 6, 0, 2, 7, 6, 6, 1, 2, 8, 8, 7, 7, 4, 7, 7, 3, 7, 4, 5, 4, 3, 3, 8, 4, 1, 1, 9, 7, 4, 3, 7, 3, 3, 0, 2, 2, 0, 6, 6, 3, 0, 6, 0, 9, 9, 9, 1, 1, 0, 6, 6, 9, 6, 8, 8, 5, 6, 1, 1, 9, 8, 9, 2, 3, 5, 5, 9, 1, 4, 1, 9, 3, 9, 2, 0, 2, 0, 4, 6, 0, 1, 2, 8, 4, 7, 8, 9, 0, 1, 2, 3, 7, 8, 9, 0, 1, 2, 3, 4, 7, 8, 9, 7, 3, 0, 3, 1, 8, 7, 6, 4, 0, 2, 6, 8, 3, 2, 8, 1, 2, 0, 7, 1, 0, 4, 4, 5, 8, 0, 6, 6, 3, 1, 5, 1, 8, 5, 9, 4, 0, 7, 5, 8, 8, 3, 8, 9, 2, 6, 2, 5, 3, 1, 7, 3, 0, 1, 9, 9, 6, 0, 3, 4, 2, 8, 1, 4, 0, 5, 2, 9, 2, 5, 8, 9, 5, 0, 1, 2, 4, 1, 6, 0, 1, 2, 3, 4, 5, 6, 7, 1, 2, 3, 4, 3, 1, 0, 4, 5, 6, 6, 3, 4, 4, 2, 7, 1, 0, 1, 4, 4, 1, 2, 1, 1, 9, 2, 0, 1, 1, 1, 7, 1, 3, 6, 3, 1, 1, 1, 4, 0, 2, 4, 0, 2, 4, 7, 8, 0, 7, 0, 6, 9, 3, 2, 8, 6, 7, 6, 1, 5, 1, 0, 7, 1, 6, 7, 2, 9, 1, 9, 1, 8, 6, 2, 6, 2, 8, 1, 7, 5, 0, 1, 1, 3, 7, 4, 1, 1, 8, 6, 8, 1, 0, 1, 2, 3, 4, 5, 6, 7, 5, 1, 5, 1, 2, 3, 4, 7, 8, 7, 2, 1, 7, 8, 7, 9, 8, 7, 8, 4, 8, 7, 7, 3, 3, 7, 6, 0, 6, 1, 9, 0, 1, 7, 6, 3, 2, 1, 7, 1, 3, 9, 1, 7, 6, 1, 4, 2, 4, 3, 0, 7, 6, 1, 4, 4, 7, 2, 4, 4, 0, 1, 2, 3, 4, 7, 6, 7, 8, 9, 0, 1, 2, 3, 4, 1, 6, 4, 0, 1, 4, 3, 4, 7, 6, 1, 3, 0, 1, 7, 7, 2, 1, 4, 8, 3, 4, 4, 2, 0, 7, 6, 2, 6, 3, 4, 4, 1, 6, 0, 1, 0, 0, 2, 8, 7, 1, 1, 4, 0, 4, 8, 3, 6, 6, 0, 3, 8, 4, 0, 6, 4, 2, 6, 1, 8, 6, 9, 0, 4, 0, 0, 1, 4, 4, 0, 1, 1, 1, 2, 7, 6, 8, 3, 0, 6, 2, 0, 1, 2, 3, 4, 3, 6, 7, 8, 9, 0, 1, 2, 3, 4, 6, 6, 7, 3, 9, 0, 1, 2, 3, 4, 5, 6, 7, 8, 9, 2, 1, 7, 1, 3, 0, 8, 0, 6, 7, 8, 3, 3, 0, 6, 0, 2, 7, 6, 6, 1, 2, 8, 8, 7, 7, 9, 7, 7, 3, 7, 9, 5, 4, 3, 3, 3, 4, 3, 1, 1, 1, 9, 7, 6, 3, 7, 3, 3, 0, 6, 5, 3, 6, 3, 1, 5, 6, 6, 9, 9, 8, 4, 1, 0, 6, 3, 7, 6, 8, 9, 5, 6, 1, 1, 9, 8, 1, 6, 3, 5, 9, 9, 4, 1, 1, 1, 4, 9, 1, 3, 7, 2, 0, 6, 0, 1, 0, 4, 0, 1, 2, 3, 4, 5, 6, 7, 8, 9, 0, 1, 2, 3, 4, 5, 6, 7, 8, 9, 0, 1, 2, 3, 4, 5, 6, 7, 8, 9, 3, 8, 0, 7, 1, 6, 7, 3, 5, 6, 9, 0, 1, 0, 0, 8, 3, 4, 3, 1, 5, 0, 0, 9, 6, 3, 4, 9, 3, 7, 6, 9, 2, 1, 5, 7, 2, 6, 4, 9, 1, 9, 4, 1, 2, 2, 3, 8, 1, 3, 2, 9, 4, 8, 8, 2, 2, 1, 2, 8, 6, 5, 1, 6, 7, 2, 1, 3, 9, 3, 8, 7, 5, 1, 0, 7, 1, 8, 3, 5, 0, 6, 6, 3, 7, 6, 7, 1, 4, 8, 4, 1, 6, 6, 6, 0, 1, 2, 3, 4, 5, 6, 7, 8, 1, 0, 1, 2, 3, 4, 5, 6, 7, 8, 9, 0, 1, 2, 3, 4, 5, 6, 7, 8, 9, 7, 9, 6, 4, 0, 1, 7, 9, 1, 1, 4, 2, 9, 9, 4, 3, 7, 8, 2, 4, 1, 3, 3, 6, 1, 7, 1, 8, 6, 7, 0, 6, 8, 2, 6, 8, 9, 3, 2, 7, 6, 1, 7, 4, 8, 8, 9, 0, 7, 3, 9, 0, 5, 1, 9, 4, 1, 0, 3, 7, 5, 8, 7, 7, 8, 2, 9, 7, 1, 2, 6, 4, 2, 5, 2, 3, 6, 6, 1, 0, 3, 2, 8, 1, 6, 1, 0, 4, 3, 1, 6, 1, 9, 0, 1, 4, 7, 6, 7, 8, 7, 1, 2, 3, 4, 7, 6, 7, 0, 1, 2, 3, 4, 1, 6, 7, 8, 9, 8, 4, 0, 0, 7, 2, 4, 3, 8, 6, 6, 3, 4, 6, 3, 3, 6, 1, 4, 7, 8, 0, 3, 1, 9, 0, 1, 9, 1, 2, 7, 0, 1, 7, 8, 4, 7, 2, 7, 6, 1, 1, 9, 7, 8, 2, 9, 1, 7, 4, 3, 4, 3, 1, 9, 0, 9, 3, 6, 8, 7, 0, 1, 0, 5, 8, 2, 7, 1, 0, 1, 2, 3, 9, 5, 6, 7, 8, 9, 0, 1, 2, 3, 4, 8, 6, 7, 8, 9, 0, 1, 2, 3, 9, 1, 6, 7, 8, 9, 1, 7, 4, 8, 1, 3, 6, 5, 7, 2, 8, 6, 3, 3, 8, 6, 5, 4, 0, 9, 1, 7, 2, 9, 1, 5, 1, 3, 2, 2, 3, 0, 6, 9, 8, 7, 6, 9, 0, 9, 8, 1, 4, 0, 6, 1, 2, 6, 9, 2, 2, 3, 5, 1, 1, 6, 7, 7, 7, 6, 2, 9, 9, 7, 0, 2, 8, 9, 0, 0, 8, 8, 8, 3, 1, 3, 7, 4, 7, 8, 8, 9, 0, 9, 8, 9, 0, 2, 6, 5, 6, 7, 9, 7, 5, 8, 1, 3, 5, 3, 1, 2, 3, 1, 3, 6, 1, 2, 3, 4, 6, 0, 1, 2, 4, 1, 6, 7, 8, 1, 7, 2, 4, 1, 1, 1, 4, 1, 6, 8, 4, 5, 3, 1, 2, 1, 3, 8, 1, 6, 7, 0, 6, 1, 6, 8, 7, 0, 1, 0, 0, 8, 1, 0, 1, 1, 8, 4, 2, 3, 1, 7, 6, 7, 1, 9, 0, 6, 7, 1, 2, 3, 7, 4, 1, 1, 5, 2, 7, 3, 3, 1, 8, 2, 2, 3, 0, 2, 9, 4, 7, 7, 0, 7, 7, 4, 1, 9, 2, 3, 7, 8, 3, 8, 6, 7, 0, 0, 1, 2, 3, 4, 0, 6, 7, 0, 9, 0, 1, 2, 3, 4, 1, 6, 7, 0, 7, 0, 1, 2, 3, 4, 1, 6, 7, 8, 7, 0, 0, 7, 8, 6, 1, 1, 3, 7, 8, 6, 6, 6, 6, 4, 3, 8, 8, 3, 0, 1, 9, 2, 3, 1, 1, 7, 1, 2, 7, 0, 1, 3, 8, 2, 9, 2, 7, 4, 2, 6, 5, 1, 4, 4, 1, 1, 1, 7, 6, 8, 8, 1, 4, 3, 1, 9, 0, 7, 3, 6, 8, 7, 0, 1, 0, 5, 0, 2, 7, 1, 0, 1, 2, 3, 4, 3, 6, 7, 8, 9, 0, 1, 3, 3, 4, 3, 8, 9, 0, 1, 2, 3, 4, 3, 6, 7, 8, 9, 2, 1, 3, 1, 3, 9, 9, 8, 3, 3, 7, 0, 7, 7, 5, 7, 9, 9, 4, 7, 0, 3, 4, 1, 3, 8, 1, 4, 8, 4, 1, 8, 6, 6, 4, 6, 0, 3, 3, 3, 3, 3, 7, 2, 3, 9, 6, 9, 0, 6, 2, 1, 0, 0, 3, 3, 3, 1, 0, 8, 7, 4, 9, 3, 0, 9, 7, 0, 0, 4, 6, 0, 9, 1, 6, 2, 7, 6, 8, 3, 3, 2, 1, 8, 3, 3, 6, 1, 0, 2, 1, 4, 0, 1, 2, 3, 4, 8, 6, 7, 8, 1, 0, 1, 2, 3, 4, 5, 6, 7, 8, 9, 0, 1, 2, 3, 4, 5, 6, 7, 8, 7, 7, 6, 4, 7, 6, 2, 3, 4, 8, 7, 8, 6, 9, 8, 3, 2, 2, 8, 4, 8, 0, 6, 6, 0, 2, 0, 1, 1, 2, 7, 6, 8, 2, 1, 0, 6, 5, 2, 9, 7, 2, 3, 9, 2, 7, 1, 8, 3, 8, 1, 9, 1, 6, 0, 1, 1, 7, 8, 2, 6, 0, 4, 8, 0, 2, 1, 3, 6, 7, 1, 9, 9, 3, 0, 3, 1, 4, 9, 0, 4, 9, 0, 1, 2, 3, 8, 6, 7, 8, 0, 8, 2, 2, 6, 0, 7, 8, 9, 0, 8, 4, 2, 4, 0, 7, 8, 9, 9, 7, 0, 9, 0, 1, 4, 8, 8, 0, 9, 2, 6, 7, 8, 4, 6, 1, 0, 4, 9, 4, 4, 0, 4, 0, 1, 6, 9, 3, 2, 9, 1, 6, 0, 8, 8, 8, 8, 7, 6, 2, 6, 0, 7, 2, 4, 8, 7, 0, 6, 7, 1, 6, 1, 8, 8, 8, 2, 8, 7, 6, 8, 7, 8, 6, 2, 9, 3, 0, 1, 2, 3, 4, 5, 6, 7, 8, 7, 0, 1, 6, 3, 4, 5, 6, 7, 8, 7, 0, 1, 2, 3, 4, 5, 6, 7, 8, 9, 8, 9, 5, 7, 0, 3, 1, 6, 8, 4, 1, 5, 6, 4, 2, 7, 8, 1, 3, 9, 3, 4, 7, 2, 0, 5, 0, 1, 7, 2, 3, 2, 3, 1, 5, 7, 8, 4, 9, 7, 1, 1, 1, 9, 0, 7, 8, 3, 4, 8, 6, 3, 8, 0, 9, 6, 2, 1, 0, 1, 0, 6, 2, 3, 8, 9, 0, 7, 2, 3, 4, 5, 5, 6, 8, 5, 4, 6, 6, 6, 7, 7, 1, 8, 2, 1, 5, 2, 4, 7, 9, 4, 0, 0, 0, 1, 1, 3, 9, 8, 6, 7, 8, 7, 0, 1, 1, 3, 9, 3, 6, 7, 8, 9, 0, 1, 2, 3, 6, 5, 6, 9, 0, 1, 3, 1, 5, 1, 8, 6, 9, 8, 6, 6, 0, 0, 1, 1, 9, 8, 6, 6, 8, 1, 4, 2, 9, 7, 0, 2, 1, 0, 3, 6, 0, 1, 2, 3, 4, 5, 6, 7, 8, 9, 0, 1, 2, 3, 4, 1, 6, 7, 8, 9, 0, 1, 2, 3, 4, 5, 6, 7, 8, 7, 8, 6, 5, 9, 7, 0, 2, 3, 4, 3, 8, 5, 1, 7, 2, 3, 0, 1, 1, 1, 3, 2, 6, 1, 3, 0, 7, 2, 7, 4, 6, 4, 0, 5, 9, 0, 8, 9, 5, 3, 1, 7, 4, 7, 6, 5, 4, 0, 0, 0, 0, 4, 0, 6, 3, 7, 7, 4, 4, 3, 9, 2, 8, 9, 6, 0, 4, 5, 3, 8, 8, 7, 1, 4, 0, 4, 8, 5, 2, 3, 7, 0, 1, 9, 1, 5, 1, 7, 4, 8, 6, 2, 1, 6, 8, 8, 0, 2, 2, 0, 4, 7, 8, 9, 0, 1, 4, 3, 4, 6, 7, 8, 9, 0, 1, 1, 3, 4, 7, 8, 9, 1, 4, 1, 3, 8, 0, 7, 1, 4, 3, 0, 7, 4, 6, 7, 0, 7, 7, 1, 6, 9, 1, 3, 6, 2, 3, 7, 2, 3, 8, 9, 1, 8, 8, 7, 1, 7, 1, 1, 0, 3, 4, 6, 6, 4, 7, 4, 2, 7, 4, 2, 9, 2, 7, 4, 2, 2, 6, 6, 1, 3, 4, 8, 1, 7, 6, 9, 0, 6, 3, 0, 6, 1, 6, 0, 0, 1, 2, 3, 4, 5, 6, 7, 0, 1, 4, 3, 4, 7, 8, 7, 0, 1, 2, 0, 4, 7, 2, 5, 1, 6, 4, 3, 9, 9, 0, 9, 7, 1, 6, 4, 3, 6, 6, 0, 9, 8, 6, 5, 7, 0, 0, 1, 7, 4, 3, 2, 4, 1, 3, 7, 6, 4, 7, 7, 7, 9, 8, 4, 3, 1, 2, 6, 3, 5, 8, 0, 5, 1, 7, 1, 3, 1, 7, 7, 6, 2, 0, 4, 1, 7, 3, 3, 9, 1, 6, 4, 3, 9, 8, 2, 1, 8, 6, 4, 1, 1, 5, 6, 5, 0, 1, 2, 3, 4, 5, 6, 7, 0, 7, 0, 1, 2, 3, 4, 7, 6, 7, 8, 9, 0, 1, 2, 3, 4, 5, 6, 7, 0, 9, 6, 9, 7, 0, 2, 3, 4, 3, 0, 5, 1, 3, 0, 1, 6, 1, 3, 2, 0, 7, 2, 6, 4, 0, 5, 9, 9, 8, 9, 8, 3, 1, 7, 4, 7, 0, 0, 6, 6, 6, 3, 7, 9, 2, 6, 9, 8, 7, 1, 4, 0, 4, 0, 5, 2, 3, 9, 0, 1, 9, 1, 5, 1, 7, 6, 1, 2, 1, 6, 8, 0, 1, 2, 3, 4, 0, 6, 7, 8, 9, 0, 1, 2, 3, 4, 5, 6, 7, 8, 0, 1, 2, 3, 0, 6, 7, 8, 1, 0, 4, 0, 6, 6, 3, 4, 4, 0, 8, 1, 0, 6, 9, 9, 7, 2, 9, 2, 0, 9, 3, 3, 9, 1, 5, 2, 3, 1, 6, 7, 3, 7, 8, 4, 0, 2, 9, 0, 2, 4, 7, 8, 0, 7, 0, 6, 9, 3, 2, 4, 8, 6, 0, 5, 7, 0, 1, 0, 8, 1, 6, 7, 3, 9, 7, 9, 3, 6, 3, 2, 6, 2, 8, 1, 7, 3, 3, 7, 3, 3, 0, 1, 1, 3, 8, 4, 9, 4, 0, 1, 8, 6, 8, 9, 0, 1, 2, 3, 4, 5, 6, 7, 8, 9, 0, 1, 2, 3, 4, 5, 6, 7, 8, 9, 0, 1, 2, 3, 4, 5, 6, 7, 8, 9, 3, 5, 3, 2, 9, 3, 2, 1, 4, 5, 5, 2, 3, 2, 1, 3, 9, 7, 2, 1, 2, 8, 9, 1, 8, 8, 7, 8, 1, 0, 0, 6, 7, 7, 8, 7, 5, 0, 6, 1, 5, 7, 4, 6, 1, 2, 5, 0, 7, 9, 9, 0, 3, 4, 4, 9, 4, 1, 8, 6, 5, 9, 0, 0, 0, 3, 7, 1, 6, 4, 6, 0, 4, 5, 4, 1, 3, 8, 6, 3, 9, 9, 5, 9, 2, 7, 8, 3, 6, 4, 7, 6, 2, 2, 0, 9, 4, 0, 1, 2, 3, 4, 5, 6, 7, 8, 9, 0, 1, 2, 3, 4, 5, 6, 7, 1, 9, 0, 1, 2, 3, 4, 1, 6, 7, 8, 9, 6, 4, 2, 6, 4, 7, 5, 5, 4, 7, 2, 9, 3, 9, 3, 8, 2, 0, 9, 5, 6, 0, 1, 0, 6, 5, 3, 5, 3, 8, 0, 0, 3, 4, 1, 8, 3, 0, 8, 3, 0, 6, 2, 7, 8, 1, 7, 1, 3, 8, 5, 4, 2, 0, 9, 7, 6, 7, 4, 1, 6, 2, 6, 7, 1, 9, 8, 0, 6, 9, 4, 9, 9, 6, 2, 3, 7, 1, 9, 2, 2, 5, 3, 7, 8, 0, 1, 2, 3, 4, 7, 8, 9, 0, 1, 2, 3, 4, 7, 8, 9, 0, 1, 7, 8, 9, 8, 9, 2, 6, 1, 3, 5, 4, 8, 2, 6, 4, 3, 4, 1, 9, 2, 0, 3, 9, 4, 7, 7, 3, 8, 7, 4, 4, 9, 8, 5, 8, 2, 6, 6, 2, 3, 1, 3, 2, 7, 3, 1, 9, 0, 1, 1, 3, 1, 0, 7, 8, 1, 5, 1, 4, 6, 0, 0, 4, 9, 1, 6, 6, 7, 0, 7, 6, 1, 1, 0, 8, 8, 8, 4, 2, 8, 3, 4, 1, 6, 2, 0, 8, 2, 2, 8, 6, 3, 4, 2, 1, 4, 8, 7, 6, 1, 7, 2, 4, 4, 1, 2, 0, 0, 1, 6, 6, 8, 3, 7, 2, 8, 4, 2, 1, 6, 1, 0, 6, 7, 8, 3, 9, 6, 3, 0, 1, 2, 3, 4, 5, 6, 7, 8, 9, 0, 8, 2, 3, 4, 5, 6, 7, 8, 4, 0, 1, 2, 3, 4, 0, 6, 7, 8, 9, 1, 6, 8, 9, 9, 0, 1, 2, 4, 4, 3, 7, 4, 6, 4, 0, 3, 8, 7, 5, 3, 2, 1, 7, 5, 3, 9, 5, 2, 5, 1, 1, 6, 2, 1, 3, 8, 6, 4, 2, 6, 2, 5, 5, 0, 2, 9, 0, 6, 3, 1, 4, 9, 1, 9, 2, 6, 7, 6, 6, 8, 7, 4, 9, 2, 1, 3, 3, 0, 5, 5, 3, 0, 3, 7, 9, 7, 0, 1, 7, 9, 1, 7, 8, 0, 3, 5, 3, 6, 0, 1, 2, 8, 4, 5, 6, 7, 8, 7, 0, 1, 2, 3, 4, 1, 6, 7, 8, 8, 0, 1, 2, 3, 4, 7, 8, 9, 6, 9, 8, 6, 1, 7, 8, 7, 2, 8, 2, 9, 3, 0, 0, 1, 0, 4, 8, 6, 2, 5, 3, 0, 3, 4, 1, 1, 3, 0, 8, 3, 0, 6, 1, 7, 8, 0, 7, 2, 6, 7, 1, 9, 6, 7, 4, 8, 9, 6, 7, 1, 2, 5, 3, 7, 8, 0, 1, 2, 4, 7, 6, 7, 8, 9, 0, 1, 3, 4, 9, 6, 7, 5, 0, 1, 1, 4, 7, 8, 9, 7, 5, 7, 1, 9, 9, 7, 1, 0, 0, 5, 9, 7, 1, 7, 3, 2, 3, 6, 8, 3, 2, 0, 0, 6, 1, 7, 9, 3, 6, 2, 9, 4, 8, 8, 7, 1, 0, 8, 7, 7, 5, 8, 5, 3, 4, 6, 1, 1, 5, 5, 0, 7, 2, 3, 6, 4, 1, 6, 4, 1, 5, 4, 2, 0, 4, 8, 6, 1, 9, 0, 2, 5, 6, 9, 3, 6, 3, 6, 0, 1, 2, 3, 4, 5, 6, 7, 8, 9, 0, 1, 2, 3, 4, 5, 6, 7, 8, 9, 0, 1, 2, 3, 5, 6, 7, 8, 1, 0, 9, 3, 7, 5, 1, 8, 6, 9, 0, 4, 1, 9, 3, 8, 4, 4, 7, 0, 1, 9, 2, 8, 7, 8, 2, 3, 9, 6, 0, 6, 3, 5, 3, 3, 3, 9, 4, 1, 1, 0, 6, 1, 0, 0, 6, 2, 1, 1, 3, 1, 7, 7, 8, 8, 7, 8, 4, 6, 0, 1, 0, 7, 0, 3, 6, 8, 7, 1, 3, 9, 9, 3, 7, 2, 4, 9, 4, 3, 6, 2, 2, 5, 2, 2, 5, 3, 9, 4, 1, 7, 2, 0, 1, 3, 3, 4, 5, 6, 7, 8, 9, 0, 1, 2, 3, 4, 4, 6, 7, 8, 9, 0, 1, 2, 3, 4, 4, 6, 7, 8, 9, 1, 0, 1, 2, 7, 5, 3, 4, 4, 0, 0, 6, 1, 6, 6, 1, 7, 2, 3, 4, 4, 7, 1, 4, 0, 7, 7, 5, 7, 2, 3, 1, 4, 4, 6, 1, 1, 6, 1, 8, 3, 3, 1, 3, 7, 8, 2, 4, 7, 7, 6, 2, 1, 9, 8, 7, 8, 8, 7, 2, 2, 3, 7, 3, 3, 5, 5, 0, 7, 4, 9, 6, 5, 1, 4, 1, 1, 6, 8, 2, 6, 1, 1, 0, 1, 2, 3, 4, 1, 1, 7, 8, 7, 0, 1, 2, 3, 4, 5, 6, 7, 8, 1, 0, 1, 2, 8, 4, 1, 6, 7, 8, 8, 0, 1, 0, 3, 2, 3, 7, 7, 4, 7, 1, 7, 1, 7, 1, 4, 0, 0, 8, 7, 1, 7, 1, 8, 1, 2, 1, 6, 9, 7, 1, 3, 0, 2, 6, 2, 8, 9, 1, 8, 1, 4, 8, 1, 1, 9, 2, 6, 1, 8, 8, 1, 4, 7, 1, 2, 0, 0, 1, 7, 8, 7, 6, 8, 8, 2, 3, 6, 1, 1, 9, 1, 2, 0, 1, 2, 3, 4, 1, 6, 7, 8, 7, 0, 1, 0, 3, 4, 0, 6, 7, 8, 9, 0, 1, 0, 3, 4, 6, 6, 7, 8, 7, 7, 1, 6, 1, 4, 0, 4, 7, 3, 7, 1, 2, 7, 1, 8, 6, 3, 0, 0, 0, 1, 8, 6, 0, 3, 8, 1, 0, 3, 0, 1, 7, 4, 7, 0, 9, 0, 7, 1, 7, 1, 6, 6, 4, 6, 0, 1, 7, 6, 4, 7, 9, 5, 3, 7, 4, 3, 0, 1, 6, 6, 1, 1, 3, 2, 1, 0, 0, 1, 8, 3, 4, 7, 8, 4, 0, 1, 8, 3, 4, 1, 6, 7, 1, 0, 1, 8, 3, 4, 7, 8, 9, 6, 1, 3, 9, 1, 1, 8, 6, 8, 4, 1, 7, 1, 7, 3, 1, 6, 7, 1, 1, 1, 7, 1, 1, 0, 7, 7, 1, 1, 8, 1, 1, 1, 7, 3, 4, 1, 1, 7, 0, 4, 8, 7, 7, 1, 4, 3, 4, 8, 9, 1, 1, 1, 1, 1, 3, 3, 1, 7, 0, 1, 1, 6, 1, 4, 7, 1, 8, 7, 7, 1, 0, 1, 7, 1, 9, 0, 1, 4, 7, 4, 1, 6, 7, 8, 0, 1, 2, 7, 4, 7, 8, 9, 7, 8, 6, 1, 1, 4, 7, 8, 4, 4, 7, 0, 1, 9, 2, 8, 7, 8, 2, 6, 0, 6, 6, 3, 8, 8, 9, 1, 4, 0, 6, 1, 0, 0, 0, 0, 1, 1, 7, 1, 1, 4, 6, 0, 7, 0, 3, 6, 8, 7, 1, 3, 2, 4, 9, 4, 2, 6, 4, 1, 7, 2, 6, 6, 0, 1, 8, 8, 4, 5, 6, 7, 8, 4, 0, 1, 2, 3, 9, 8, 6]\n"
          ]
        }
      ]
    },
    {
      "cell_type": "markdown",
      "source": [
        "BUILDING CONFUSION MATRIX"
      ],
      "metadata": {
        "id": "1ExiTmw-Evgu"
      }
    },
    {
      "cell_type": "code",
      "source": [
        "# we will use tensorflow to create confusion matrix\n",
        "\n",
        "cm = tf.math.confusion_matrix(labels=y_test,predictions= y_pridicted_labels)\n",
        "#we cant give y_pridicted values as it is, we need to give the predictions and not sigmoid function values.\n",
        "print(cm)"
      ],
      "metadata": {
        "colab": {
          "base_uri": "https://localhost:8080/"
        },
        "id": "VrD-M8TmEX8O",
        "outputId": "325e830b-5fad-498f-c1c4-3bfb1bf04332"
      },
      "execution_count": null,
      "outputs": [
        {
          "output_type": "stream",
          "name": "stdout",
          "text": [
            "tf.Tensor(\n",
            "[[ 926    2    5    8    0    3   29    1    6    0]\n",
            " [   0 1108    5    4    0    0    4    0   14    0]\n",
            " [  20   88  777   33   16    0   35   22   40    1]\n",
            " [   6   49   27  861    1    2    5   24   28    7]\n",
            " [   2   51    2    0  791    0   31    9    4   92]\n",
            " [  38  112    4  201   30  388   27   41   28   23]\n",
            " [  26   47    6    0   14   10  854    0    1    0]\n",
            " [   2   70   12    2    9    0    3  903    7   20]\n",
            " [  22   91    7   90   14    5   17   26  684   18]\n",
            " [  23   44    5   10   75    0    1  100    9  742]], shape=(10, 10), dtype=int32)\n"
          ]
        }
      ]
    },
    {
      "cell_type": "code",
      "source": [
        "#showing the confusin matrix in a fancy way using seaborn\n",
        "import seaborn as sn\n",
        "plt.figure(figsize = (10,7))\n",
        "sn.heatmap(cm, annot=True, fmt='d')\n",
        "plt.xlabel('Predicted')\n",
        "plt.ylabel('Truth')"
      ],
      "metadata": {
        "colab": {
          "base_uri": "https://localhost:8080/",
          "height": 545
        },
        "id": "7LmMFEMTG8fv",
        "outputId": "7b95c063-daa1-4b06-a153-487af639b72f"
      },
      "execution_count": null,
      "outputs": [
        {
          "output_type": "execute_result",
          "data": {
            "text/plain": [
              "Text(95.72222222222221, 0.5, 'Truth')"
            ]
          },
          "metadata": {},
          "execution_count": 76
        },
        {
          "output_type": "display_data",
          "data": {
            "text/plain": [
              "<Figure size 1000x700 with 2 Axes>"
            ],
            "image/png": "[encoded data removed]"
          },
          "metadata": {}
        }
      ]
    },
    {
      "cell_type": "code",
      "source": [
        "# anything thats not in the diagnoal or highlighted value of the diagonal is a ERROR"
      ],
      "metadata": {
        "id": "wzlvX6_8HO-7"
      },
      "execution_count": null,
      "outputs": []
    },
    {
      "cell_type": "markdown",
      "source": [
        "CREATING A NEURAL NETWORK - WITH HIDDEN LAYER"
      ],
      "metadata": {
        "id": "36wk5fKZH7hu"
      }
    },
    {
      "cell_type": "code",
      "source": [
        "#hidden layer improves performance\n",
        "model = keras.Sequential([\n",
        "    keras.layers.Dense(100, input_shape=(784,), activation='relu'),\n",
        "    keras.layers.Dense(10, activation='sigmoid')\n",
        "])\n",
        "\n",
        "model.compile(optimizer='adam',\n",
        "              loss='sparse_categorical_crossentropy',\n",
        "              metrics=['accuracy'])\n",
        "\n",
        "model.fit(x_train_flattened, y_train, epochs=5)"
      ],
      "metadata": {
        "colab": {
          "base_uri": "https://localhost:8080/"
        },
        "id": "3wPAYP_sH7Am",
        "outputId": "ac6c71ff-2d4e-4de7-c50d-131903efd2eb"
      },
      "execution_count": null,
      "outputs": [
        {
          "output_type": "stream",
          "name": "stdout",
          "text": [
            "Epoch 1/5\n",
            "1875/1875 [==============================] - 12s 6ms/step - loss: 1.2085 - accuracy: 0.7118\n",
            "Epoch 2/5\n",
            "1875/1875 [==============================] - 8s 4ms/step - loss: 0.5040 - accuracy: 0.8712\n",
            "Epoch 3/5\n",
            "1875/1875 [==============================] - 7s 4ms/step - loss: 0.3900 - accuracy: 0.8942\n",
            "Epoch 4/5\n",
            "1875/1875 [==============================] - 8s 4ms/step - loss: 0.3465 - accuracy: 0.9032\n",
            "Epoch 5/5\n",
            "1875/1875 [==============================] - 8s 4ms/step - loss: 0.3227 - accuracy: 0.9088\n"
          ]
        },
        {
          "output_type": "execute_result",
          "data": {
            "text/plain": [
              "<keras.callbacks.History at 0x7f1f1ae03670>"
            ]
          },
          "metadata": {},
          "execution_count": 79
        }
      ]
    },
    {
      "cell_type": "code",
      "source": [
        "#evaluate the performance\n",
        "model.evaluate(x_test_flattened,y_test)"
      ],
      "metadata": {
        "colab": {
          "base_uri": "https://localhost:8080/"
        },
        "id": "cQZG6CJ1Igve",
        "outputId": "a6ab29ae-9b0e-4cce-e632-1087349c5b15"
      },
      "execution_count": null,
      "outputs": [
        {
          "output_type": "stream",
          "name": "stdout",
          "text": [
            "313/313 [==============================] - 2s 5ms/step - loss: 0.3035 - accuracy: 0.9134\n"
          ]
        },
        {
          "output_type": "execute_result",
          "data": {
            "text/plain": [
              "[0.3034971058368683, 0.9133999943733215]"
            ]
          },
          "metadata": {},
          "execution_count": 81
        }
      ]
    },
    {
      "cell_type": "code",
      "source": [
        "y_predicted = model.predict(x_test_flattened)\n",
        "y_predicted_labels = [np.argmax(i) for i in y_predicted]\n",
        "cm = tf.math.confusion_matrix(labels=y_test,predictions=y_predicted_labels)\n",
        "\n",
        "plt.figure(figsize = (10,7))\n",
        "sn.heatmap(cm, annot=True, fmt='d')\n",
        "plt.xlabel('Predicted')\n",
        "plt.ylabel('Truth')"
      ],
      "metadata": {
        "colab": {
          "base_uri": "https://localhost:8080/",
          "height": 562
        },
        "id": "De4vkMhNI_p2",
        "outputId": "bbe0053f-ce82-4739-b65a-7912d4ccb94a"
      },
      "execution_count": null,
      "outputs": [
        {
          "output_type": "stream",
          "name": "stdout",
          "text": [
            "313/313 [==============================] - 1s 4ms/step\n"
          ]
        },
        {
          "output_type": "execute_result",
          "data": {
            "text/plain": [
              "Text(95.72222222222221, 0.5, 'Truth')"
            ]
          },
          "metadata": {},
          "execution_count": 84
        },
        {
          "output_type": "display_data",
          "data": {
            "text/plain": [
              "<Figure size 1000x700 with 2 Axes>"
            ],
            "image/png": "[encoded data removed]"
          },
          "metadata": {}
        }
      ]
    }
  ]
}